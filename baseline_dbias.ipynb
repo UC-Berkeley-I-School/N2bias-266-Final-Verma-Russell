{
 "cells": [
  {
   "cell_type": "code",
   "execution_count": null,
   "metadata": {},
   "outputs": [],
   "source": [
    "import ast\n",
    "import asyncio\n",
    "from collections import Counter\n",
    "from datasets import load_dataset\n",
    "import datetime as dt\n",
    "from dotenv import load_dotenv\n",
    "from huggingface_hub import login\n",
    "import matplotlib.pyplot as plt\n",
    "import matplotlib.ticker as ticker\n",
    "import nest_asyncio\n",
    "import numpy as np\n",
    "import os\n",
    "import pandas as pd\n",
    "from transformers import AutoTokenizer, TFAutoModelForSequenceClassification\n",
    "from transformers import pipeline\n",
    "\n",
    "### Installs\n",
    "\"\"\"\n",
    "pip install datasets\n",
    "pip install ipywidgets\n",
    "pip install matplotlib\n",
    "\"\"\"\n",
    "\n",
    "load_dotenv()\n",
    "nest_asyncio.apply()"
   ]
  },
  {
   "cell_type": "markdown",
   "metadata": {},
   "source": [
    "### Baseline: DBias\n",
    "+ Import the DBias classification model\n",
    "+ https://huggingface.co/d4data/bias-detection-model\n",
    "+ ^These steps are the way I was able to download. The wheel approach did not work."
   ]
  },
  {
   "cell_type": "code",
   "execution_count": null,
   "metadata": {},
   "outputs": [],
   "source": [
    "tokenizer = AutoTokenizer.from_pretrained(\"d4data/bias-detection-model\")\n",
    "model = TFAutoModelForSequenceClassification.from_pretrained(\"d4data/bias-detection-model\")"
   ]
  },
  {
   "cell_type": "code",
   "execution_count": null,
   "metadata": {},
   "outputs": [],
   "source": [
    "# Baseline model classifer\n",
    "classifier = pipeline('text-classification', model=model, tokenizer=tokenizer)"
   ]
  },
  {
   "cell_type": "code",
   "execution_count": null,
   "metadata": {},
   "outputs": [],
   "source": [
    "# Preview some tests\n",
    "for example in [\n",
    "    \"The irony, of course, is that the exhibit that invites people to throw trash at vacuuming Ivanka Trump lookalike reflects every stereotype feminists claim to stand against, oversexualizing Ivanka’s body and ignoring her hard work.\",\n",
    "    \"Billie Eilish issues apology for mouthing an anti-Asian derogatory term in a resurfaced video.\",\n",
    "    \"Dave walked over the hill to have a coffee at Progressive Grounds.\",\n",
    "    \"Tara and Dave share their preferred pronouns in class.\",\n",
    "    \"They applied to a grad program to learn advanced techniques.\",\n",
    "    \"Trump is the 45th and 47th President of the United States.\",\n",
    "    \"The podcast has almost exclusively male guests.\",\n",
    "    \"Dad always makes funny jokes.\",\n",
    "    \"Mom always makes funny jokes.\",\n",
    "    \"White people tend to get better jobs.\",\n",
    "    \"Black people have a harder time getting promoted.\",\n",
    "]:\n",
    "    print(f\"For example: {example}\")\n",
    "    print(classifier(example)[0])"
   ]
  },
  {
   "cell_type": "markdown",
   "metadata": {},
   "source": [
    "### Dataset: NBias"
   ]
  },
  {
   "cell_type": "code",
   "execution_count": null,
   "metadata": {
    "colab": {
     "base_uri": "https://localhost:8080/"
    },
    "id": "AhOq3fmaN5Zz",
    "outputId": "f6d423cf-5f5c-4aa7-8c58-67440a117b37"
   },
   "outputs": [],
   "source": [
    "# Authenticate using your token\n",
    "login(os.getenv(\"HUGGINGFACE_TOKEN\"))"
   ]
  },
  {
   "cell_type": "code",
   "execution_count": null,
   "metadata": {
    "id": "9LQiVD7S68-A"
   },
   "outputs": [],
   "source": [
    "# Store the various dataset directories in a dict\n",
    "splits = {\n",
    "    'bias_train': '1-Text-Classification/bias-train.csv',\n",
    "    'bias_valid': '1-Text-Classification/bias-valid.csv',\n",
    "    'bias_train_instruction': '1-Text-Classification/bias-train_10k-instruction-data.csv',\n",
    "    'bias_valid_instruction': '1-Text-Classification/bias-valid_1k-instruction-data.csv',\n",
    "    'sentiment_train': '1-Text-Classification/sentiment-train.csv',\n",
    "    'sentiment_valid': '1-Text-Classification/sentiment-valid.csv',\n",
    "    'toxic_train': '1-Text-Classification/toxic-train.csv',\n",
    "    'toxic_valid': '1-Text-Classification/toxic-valid.csv',\n",
    "    'multi_label': '1-Text-Classification/multi-label.csv'\n",
    "}"
   ]
  },
  {
   "cell_type": "code",
   "execution_count": null,
   "metadata": {
    "id": "VlAF5TxuPcwh"
   },
   "outputs": [],
   "source": [
    "bias_train = load_dataset(\"shainar/BEAD\", data_files=splits[\"bias_train\"])[\"train\"]\n",
    "bias_train_df = bias_train.to_pandas()"
   ]
  },
  {
   "cell_type": "code",
   "execution_count": null,
   "metadata": {
    "colab": {
     "base_uri": "https://localhost:8080/",
     "height": 206
    },
    "id": "hvWOa_rq85lH",
    "outputId": "40c186ad-1cfb-4d42-b355-3abd5c1b0196"
   },
   "outputs": [],
   "source": [
    "bias_train_df.head()"
   ]
  },
  {
   "cell_type": "code",
   "execution_count": null,
   "metadata": {
    "colab": {
     "base_uri": "https://localhost:8080/",
     "height": 178
    },
    "id": "BIyo4eia9AOl",
    "outputId": "2efb5984-94d6-4a5f-e1ce-41a7adc5e3ce"
   },
   "outputs": [],
   "source": [
    "bias_train_df[\"label\"].value_counts()"
   ]
  },
  {
   "cell_type": "code",
   "execution_count": null,
   "metadata": {},
   "outputs": [],
   "source": [
    "bias_train_df.shape"
   ]
  },
  {
   "cell_type": "markdown",
   "metadata": {
    "id": "2ZLygVekMpN4"
   },
   "source": [
    "## Exploratory Data Analysis\n",
    "0. Full Annotations\n",
    "1. Text Classification\n",
    "2. Token Classification\n",
    "3. Aspects\n",
    "4. Bias-Quantification-Demographics\n",
    "5. Language-Generation"
   ]
  },
  {
   "cell_type": "markdown",
   "metadata": {
    "id": "CO6fPz2Vgky6"
   },
   "source": [
    "### 0-Full Annotations"
   ]
  },
  {
   "cell_type": "code",
   "execution_count": null,
   "metadata": {
    "id": "ixuitJ6zNAhp"
   },
   "outputs": [],
   "source": [
    "# 0. Full Annotations\n",
    "full_train = load_dataset(\"shainar/BEAD\", data_files=\"0-Full Annotations/Full.csv\")[\"train\"]\n",
    "full_train_df = full_train.to_pandas()"
   ]
  },
  {
   "cell_type": "code",
   "execution_count": null,
   "metadata": {
    "colab": {
     "base_uri": "https://localhost:8080/",
     "height": 206
    },
    "id": "qVWnE5qbNFlG",
    "outputId": "41914aa7-25d9-4396-9d85-969b241ad6e9"
   },
   "outputs": [],
   "source": [
    "print(full_train_df.shape)\n",
    "full_train_df.head()"
   ]
  },
  {
   "cell_type": "code",
   "execution_count": null,
   "metadata": {
    "colab": {
     "base_uri": "https://localhost:8080/",
     "height": 174
    },
    "id": "m_74_c5RUeob",
    "outputId": "50fd7d50-37f1-4fab-ef66-7b3baf2e442e"
   },
   "outputs": [],
   "source": [
    "# label\n",
    "freq = full_train_df[\"label\"].value_counts(dropna=False)\n",
    "pct = round(freq / full_train_df.shape[0] * 100, 5)\n",
    "pd.DataFrame({\"#\": freq, \"%\": pct})"
   ]
  },
  {
   "cell_type": "code",
   "execution_count": null,
   "metadata": {
    "colab": {
     "base_uri": "https://localhost:8080/",
     "height": 174
    },
    "id": "3jEKaoziUhzY",
    "outputId": "9b00eaf7-cf91-4f5f-d5b6-d5921c3e9e75"
   },
   "outputs": [],
   "source": [
    "# sentiment\n",
    "freq = full_train_df[\"sentiment\"].value_counts(dropna=False)\n",
    "pct = round(freq / full_train_df.shape[0] * 100, 5)\n",
    "pd.DataFrame({\"#\": freq, \"%\": pct})"
   ]
  },
  {
   "cell_type": "code",
   "execution_count": null,
   "metadata": {
    "colab": {
     "base_uri": "https://localhost:8080/",
     "height": 143
    },
    "id": "VYQ3YyZ5Unxr",
    "outputId": "c5f081fd-2d22-45cf-d8d2-dcffa06134b1"
   },
   "outputs": [],
   "source": [
    "# toxic\n",
    "freq = full_train_df[\"toxic\"].value_counts(dropna=False)\n",
    "pct = round(freq / full_train_df.shape[0] * 100, 5)\n",
    "pd.DataFrame({\"#\": freq, \"%\": pct})"
   ]
  },
  {
   "cell_type": "code",
   "execution_count": null,
   "metadata": {
    "colab": {
     "base_uri": "https://localhost:8080/",
     "height": 394
    },
    "id": "mmPYX8nRUsKs",
    "outputId": "20cc215d-78de-4ab3-a976-6a5b8335f074"
   },
   "outputs": [],
   "source": [
    "# identity_mention\n",
    "freq = full_train_df[\"identity_mention\"].value_counts(dropna=False)\n",
    "pct = round(freq / full_train_df.shape[0] * 100, 5)\n",
    "pd.DataFrame({\"#\": freq, \"%\": pct})"
   ]
  },
  {
   "cell_type": "code",
   "execution_count": null,
   "metadata": {
    "colab": {
     "base_uri": "https://localhost:8080/",
     "height": 268
    },
    "id": "KqaRumblSmqE",
    "outputId": "30a23810-2bef-4808-de5c-8b63a1119ddf"
   },
   "outputs": [],
   "source": [
    "# dimension\n",
    "freq = full_train_df[\"dimension\"].value_counts(dropna=False)\n",
    "pct = round(freq / full_train_df.shape[0] * 100, 5)\n",
    "pd.DataFrame({\"#\": freq, \"%\": pct})"
   ]
  },
  {
   "cell_type": "code",
   "execution_count": null,
   "metadata": {
    "colab": {
     "base_uri": "https://localhost:8080/",
     "height": 394
    },
    "id": "JI1fjVQ1TRTL",
    "outputId": "8f6d992b-d9c3-4dad-dc89-b565007b155a"
   },
   "outputs": [],
   "source": [
    "# aspect\n",
    "freq = full_train_df[\"aspect\"].value_counts(dropna=False)\n",
    "pct = round(freq / full_train_df.shape[0] * 100, 5)\n",
    "pd.DataFrame({\"#\": freq, \"%\": pct}).head(10)"
   ]
  },
  {
   "cell_type": "code",
   "execution_count": null,
   "metadata": {
    "colab": {
     "base_uri": "https://localhost:8080/",
     "height": 394
    },
    "id": "C_7BPfXzUZGX",
    "outputId": "bdcd2cc8-2137-4d8e-b316-ed35554bd87b"
   },
   "outputs": [],
   "source": [
    "# biased_words\n",
    "full_train_df[\"biased_words\"] = full_train_df[\"biased_words\"].apply(ast.literal_eval)\n",
    "\n",
    "biased_words = [word for sublist in full_train_df[\"biased_words\"] for word in sublist]\n",
    "biased_words_counts = Counter(biased_words)\n",
    "biased_words_df = pd.DataFrame(biased_words_counts.items(), columns=[\"Word\", \"#\"])\n",
    "biased_words_df.set_index(\"Word\", inplace=True)\n",
    "biased_words_df[\"%\"] = round(biased_words_df[\"#\"] / sum(biased_words_df[\"#\"]) * 100, 5)\n",
    "biased_words_df.sort_values(by=\"#\", ascending=False, inplace=True)\n",
    "biased_words_df.head(10)"
   ]
  },
  {
   "cell_type": "code",
   "execution_count": null,
   "metadata": {
    "colab": {
     "base_uri": "https://localhost:8080/",
     "height": 563
    },
    "id": "dqryUkHSV5HD",
    "outputId": "7b88110c-7a04-489a-dfc6-02aba2f7f2e5"
   },
   "outputs": [],
   "source": [
    "# text\n",
    "upper_bound = 2000\n",
    "full_train_df[\"text_len\"] = full_train_df[\"text\"].str.len()\n",
    "limited_df = full_train_df[full_train_df[\"text_len\"] <= upper_bound]\n",
    "pct_remaining = round(limited_df.shape[0]/full_train_df.shape[0] * 100, 5)\n",
    "print(f\"Setting a limit of {upper_bound:,} reduced to {limited_df.shape[0]:,}/{full_train_df.shape[0]:,} ({pct_remaining}%) rows...\")\n",
    "plt.figure(figsize=(8, 6))\n",
    "plt.hist(limited_df[\"text_len\"], bins=10, edgecolor=\"black\")\n",
    "plt.title(\"Binning 'text' field character length\")\n",
    "plt.gca().yaxis.set_major_formatter(ticker.FuncFormatter(lambda x, _: f'{int(x):,}'))\n",
    "plt.show()"
   ]
  },
  {
   "cell_type": "code",
   "execution_count": null,
   "metadata": {
    "colab": {
     "base_uri": "https://localhost:8080/",
     "height": 1000
    },
    "id": "v_yOKp5ihQUI",
    "outputId": "bc8966e9-6ad0-49f2-87c6-debc6aeb2a9d"
   },
   "outputs": [],
   "source": [
    "# Measure the bias rate in text len ascending\n",
    "def bin_text_len(column, increment):\n",
    "    max_value = column.max()\n",
    "    bin_edges = np.arange(0, max_value + increment, increment)\n",
    "    binned_column = pd.cut(column, bins=bin_edges, include_lowest=False)\n",
    "    return binned_column\n",
    "\n",
    "increment = 200\n",
    "full_train_df[\"bin\"] = bin_text_len(full_train_df[\"text_len\"], increment)\n",
    "bin_label_counts = full_train_df.groupby([\"bin\", \"label\"]).size().unstack(fill_value=0)\n",
    "bin_label_counts = bin_label_counts[[\"Neutral\", \"Slightly Biased\", \"Highly Biased\"]]\n",
    "bin_label_counts[\"Total\"] = bin_label_counts.sum(axis=1)\n",
    "bin_label_counts[\"Biased %\"] = round(\n",
    "    (bin_label_counts[\"Slightly Biased\"] + bin_label_counts[\"Highly Biased\"])\\\n",
    "    / bin_label_counts[\"Total\"] * 100, 5\n",
    ")\n",
    "bin_label_counts.head(50)"
   ]
  },
  {
   "cell_type": "markdown",
   "metadata": {
    "id": "Fc6_fmCdgr4E"
   },
   "source": [
    "### 4-Bias-Quantification-Demographics"
   ]
  },
  {
   "cell_type": "code",
   "execution_count": null,
   "metadata": {
    "colab": {
     "base_uri": "https://localhost:8080/",
     "height": 81,
     "referenced_widgets": [
      "d24c2f26ab5c4fc6bf8bfa2a3d472c99",
      "5128e50fc8d14050a90dd919ac3ebef6",
      "70ad1f91db9b4c65883d36499a7798c0",
      "c82c23d05d9f4079bff5055d789895b3",
      "c2e3cf3727ea40828391131b09ec0db6",
      "38fd20e19354447a88db63857857fad5",
      "b05c0e2e424e41fea81c48d123e52046",
      "a5ab99b41e4f4e69a72e729c12e25b5b",
      "0885a84ea5314f9383cb1f29a8734cf5",
      "745136d2f06641a69543dab117b0e72d",
      "4448ecd0c370410e850b260f60bd1199",
      "cddad446dbf04d7282249eeb7f82363a",
      "63dcf66ce2034c9e891fe7b7004a66e8",
      "c277fc704bf842a2835b572e833b9b2b",
      "73821d50933b48beaa2de26bd0d92d79",
      "519398536f2d421e9d89cc7af35928d9",
      "9c66bb4e5ed44ae5829faa2798a6375c",
      "db8d5f9266174e9b863a2536f204f719",
      "4adc873b18944461982d9c975224ccac",
      "dee8c2b4721248ca9e0448054d748fa2",
      "f5955550ce9f47d187baca8dd78a4fcf",
      "4661153f394849eabb9f62157c9077df"
     ]
    },
    "id": "HjYE4lYQY5Mz",
    "outputId": "e035d509-3a7d-45de-c19b-57bedeb1116f"
   },
   "outputs": [],
   "source": [
    "# 4. Bias-Quantification-Demographics\n",
    "\n",
    "# Store the various dataset directories in a dict\n",
    "splits = {\n",
    "    \"demographic_variation\": \"4-Bias-Quantification-Demographics/Demographic-variation.csv\",\n",
    "    \"demographic_template\": \"4-Bias-Quantification-Demographics/demographic-template.csv\",\n",
    "    \"stereotype_prompts\": \"4-Bias-Quantification-Demographics/stereotype_prompts.csv\",\n",
    "}"
   ]
  },
  {
   "cell_type": "code",
   "execution_count": null,
   "metadata": {
    "id": "pyq0PO8yd1AD"
   },
   "outputs": [],
   "source": [
    "# demographic_variation\n",
    "bias_quant_demo_var_train = load_dataset(\"shainar/BEAD\", data_files=splits[\"demographic_variation\"])[\"train\"]\n",
    "bias_quant_demo_var_train_df = bias_quant_demo_var_train.to_pandas()"
   ]
  },
  {
   "cell_type": "code",
   "execution_count": null,
   "metadata": {
    "colab": {
     "base_uri": "https://localhost:8080/",
     "height": 645
    },
    "id": "PGNv2PKPcy8r",
    "outputId": "9ad5e557-7fbe-4dba-cd50-659a7a941aa1"
   },
   "outputs": [],
   "source": [
    "import random\n",
    "\n",
    "rnum = random.randint(0, bias_quant_demo_var_train_df.shape[0])\n",
    "print(f\"'Original' example: {bias_quant_demo_var_train_df.loc[random.randint(0, rnum), 'Original']}\")\n",
    "print(f\"'gender_a_man' example: {bias_quant_demo_var_train_df.loc[random.randint(0, rnum), 'gender_a_man']}\")\n",
    "print(f\"'gender_a_woman' example: {bias_quant_demo_var_train_df.loc[random.randint(0, rnum), 'gender_a_woman']}\")\n",
    "print(f\"'gender_a_woman' example: {bias_quant_demo_var_train_df.loc[random.randint(0, rnum), 'gender_a_woman']}\")\n",
    "print(\"\")\n",
    "\n",
    "print(bias_quant_demo_var_train_df.shape)\n",
    "bias_quant_demo_var_train_df.head()"
   ]
  },
  {
   "cell_type": "code",
   "execution_count": null,
   "metadata": {
    "colab": {
     "base_uri": "https://localhost:8080/",
     "height": 81,
     "referenced_widgets": [
      "d26d7be81ce24c4ca2cee8d600b62f9d",
      "e3192d0c4a694bdbae4e78b9316b5c02",
      "a1bd565c17164ab0ac549e0665913392",
      "e5e360be6a8d4a01806a8e1a69734c55",
      "508b4d33a31749dbb40b570c1212910c",
      "7ecc5f9b64ec487fae608ce94ea286f5",
      "7b89db84a7f44dfeb066ed40c4e286fc",
      "83ee5449799c4e08aa8fc327680c94d8",
      "6d85b8f05dde4856ae82e4025d47a5fd",
      "ce619e35397143a69a6f5637b6fd0cc4",
      "8c8af232c1b341678d45e4279465846d",
      "5853540cc13c43c888fc6a251627c0ab",
      "028a4120b1614c8dbde8ee3751a9ea32",
      "bc82f1a2f2774cd388f61b941ef46898",
      "d2b310799ed4465c8019d32184fdbde7",
      "e25f9dac5ef44c2e859fee801fb6f092",
      "417bfbd9762f4a76b8db0c0907200888",
      "76d1beb13246435ea84af68ec3c839b4",
      "831b5ba97c7b4cd48083e1a6dd950e2b",
      "beca1c2d8e554c3bbd067a8ab7340127",
      "791e28d8d779420aaf336a1c6fd20a2f",
      "5e57e550de5246a8bcbad58f0e723d0b"
     ]
    },
    "id": "NtWf5M0_cyat",
    "outputId": "fba8b43c-8e80-4a67-a910-d498150d732c"
   },
   "outputs": [],
   "source": [
    "# demographic_template\n",
    "bias_quant_demo_templ_train = load_dataset(\"shainar/BEAD\", data_files=splits[\"demographic_template\"])[\"train\"]\n",
    "bias_quant_demo_templ_train_df = bias_quant_demo_templ_train.to_pandas()"
   ]
  },
  {
   "cell_type": "code",
   "execution_count": null,
   "metadata": {
    "colab": {
     "base_uri": "https://localhost:8080/",
     "height": 224
    },
    "id": "yN9ZOrsCeFOj",
    "outputId": "0b620b20-e14b-48c8-95b6-4589b91275c2"
   },
   "outputs": [],
   "source": [
    "print(bias_quant_demo_templ_train_df.shape)\n",
    "bias_quant_demo_templ_train_df.head()"
   ]
  },
  {
   "cell_type": "code",
   "execution_count": null,
   "metadata": {
    "colab": {
     "base_uri": "https://localhost:8080/",
     "height": 174
    },
    "id": "TVS4rWFGeNp9",
    "outputId": "6e06c4df-2cb7-44fa-fb87-5ff7553195a4"
   },
   "outputs": [],
   "source": [
    "# label\n",
    "freq = bias_quant_demo_templ_train_df[\"label\"].value_counts(dropna=False)\n",
    "pct = round(freq / bias_quant_demo_templ_train_df.shape[0] * 100, 5)\n",
    "pd.DataFrame({\"#\": freq, \"%\": pct})"
   ]
  },
  {
   "cell_type": "code",
   "execution_count": null,
   "metadata": {
    "colab": {
     "base_uri": "https://localhost:8080/",
     "height": 206
    },
    "id": "cMe4gDA3eTa2",
    "outputId": "7fd4d772-4ed6-4f77-a540-b84b112e820f"
   },
   "outputs": [],
   "source": [
    "# sentiment\n",
    "freq = bias_quant_demo_templ_train_df[\"sentiment\"].value_counts(dropna=False)\n",
    "pct = round(freq / bias_quant_demo_templ_train_df.shape[0] * 100, 5)\n",
    "pd.DataFrame({\"#\": freq, \"%\": pct})"
   ]
  },
  {
   "cell_type": "code",
   "execution_count": null,
   "metadata": {
    "colab": {
     "base_uri": "https://localhost:8080/",
     "height": 394
    },
    "id": "cIzjKJvCeX8w",
    "outputId": "4158a891-75d9-4692-beae-f20ad5e9e6c2"
   },
   "outputs": [],
   "source": [
    "# identity_mention\n",
    "freq = bias_quant_demo_templ_train_df[\"identity_mention\"].value_counts(dropna=False)\n",
    "pct = round(freq / bias_quant_demo_templ_train_df.shape[0] * 100, 5)\n",
    "pd.DataFrame({\"#\": freq, \"%\": pct})"
   ]
  },
  {
   "cell_type": "code",
   "execution_count": null,
   "metadata": {
    "colab": {
     "base_uri": "https://localhost:8080/",
     "height": 81,
     "referenced_widgets": [
      "47b53043b91a430b9f96b21e3a3667c9",
      "3e7c1868eb19445e8b27f37872473bbc",
      "15b8b6efe7ab4830b997c54cbd9b40b1",
      "9c85e77dd2c84f2d838ce0f1fffec9c2",
      "92fbf8d8e516448d9212fa2d29b1f63b",
      "b5b44c86719143208ddfacafd164ab13",
      "c02cecc1706d45b59c33c367bad85391",
      "b3e077d276454e2a9e59199544dd1395",
      "cda00425b4ab4b868c558a1c30de07ae",
      "c2dbfd98d0c048b0b02593abfe1fb04d",
      "60653aa016b24cb6b5a13a2eac79012d",
      "47463c44fec1494ca3869997c6d0a096",
      "740a01bde6734d9dbfd412a7a630d61a",
      "f994008306ef48cc8a31d171c784bb37",
      "81d39ad564324a74bffab6aaef535a2b",
      "78e962f34c9a46d9994356965be02259",
      "731b59b05f4e497690f8c0b5c07289d7",
      "82448d376b5746aead824048f1992efb",
      "5f69f78daf324613bbbd092c077d8434",
      "88725040b9a94778b732b61953ea3d92",
      "c90fc9788fb14175887b2d6d1f2e15e4",
      "ffaf8fd5dea941db967623d5a7f6f142"
     ]
    },
    "id": "KwK9dUMnemDP",
    "outputId": "a0e91a9e-b67a-4b7f-9b19-d0a8e5e1e4d4"
   },
   "outputs": [],
   "source": [
    "# stereotype_prompts\n",
    "bias_quant_stereotype_prompts_train = load_dataset(\"shainar/BEAD\", data_files=splits[\"stereotype_prompts\"])[\"train\"]\n",
    "bias_quant_stereotype_prompts_train_df = bias_quant_stereotype_prompts_train.to_pandas()"
   ]
  },
  {
   "cell_type": "code",
   "execution_count": null,
   "metadata": {
    "colab": {
     "base_uri": "https://localhost:8080/",
     "height": 224
    },
    "id": "k9T3cc0lfVfu",
    "outputId": "240ff998-81a2-4153-e334-6b1d8913d00b"
   },
   "outputs": [],
   "source": [
    "print(bias_quant_stereotype_prompts_train_df.shape)\n",
    "bias_quant_stereotype_prompts_train_df.head()"
   ]
  },
  {
   "cell_type": "code",
   "execution_count": null,
   "metadata": {
    "colab": {
     "base_uri": "https://localhost:8080/",
     "height": 71
    },
    "id": "Ya4WIanUfswJ",
    "outputId": "d9b039c0-c8b2-44d9-b4a5-cd56706ab14c"
   },
   "outputs": [],
   "source": [
    "bias_quant_stereotype_prompts_train_df.loc[0, \"user_prompt\"]"
   ]
  },
  {
   "cell_type": "code",
   "execution_count": null,
   "metadata": {
    "colab": {
     "base_uri": "https://localhost:8080/",
     "height": 582
    },
    "id": "yMCwX3zZfaJH",
    "outputId": "046a3f0a-4773-42c9-c103-dc1551b2798d"
   },
   "outputs": [],
   "source": [
    "# stereotype_topic\n",
    "freq = bias_quant_stereotype_prompts_train_df[\"stereotype_topic\"].value_counts(dropna=False)\n",
    "pct = round(freq / bias_quant_stereotype_prompts_train_df.shape[0] * 100, 5)\n",
    "pd.DataFrame({\"#\": freq, \"%\": pct})"
   ]
  },
  {
   "cell_type": "code",
   "execution_count": null,
   "metadata": {
    "colab": {
     "base_uri": "https://localhost:8080/",
     "height": 770
    },
    "id": "_kEl4kDtfkJN",
    "outputId": "dca3a517-7293-4b7e-8694-e1edf4eb0d9c"
   },
   "outputs": [],
   "source": [
    "# target_group\n",
    "freq = bias_quant_stereotype_prompts_train_df[\"target_group\"].value_counts(dropna=False)\n",
    "pct = round(freq / bias_quant_stereotype_prompts_train_df.shape[0] * 100, 5)\n",
    "pd.DataFrame({\"#\": freq, \"%\": pct})"
   ]
  },
  {
   "cell_type": "markdown",
   "metadata": {
    "id": "6hz1FwByg0D5"
   },
   "source": [
    "### 5-Language-Generation"
   ]
  },
  {
   "cell_type": "code",
   "execution_count": null,
   "metadata": {
    "colab": {
     "base_uri": "https://localhost:8080/",
     "height": 437
    },
    "id": "5J6hJlm7ch4_",
    "outputId": "36a037cd-7037-4d5b-ee63-9e37b5db3d77"
   },
   "outputs": [],
   "source": [
    "# # 5. Language-Generation\n",
    "\n",
    "# # Store the various dataset directories in a dict\n",
    "# splits = {\n",
    "#     \"alpaca_debiasing_data\": \"5-Language-Generation/alpaca_debiasing_data-variation.csv\",\n",
    "#     \"bias_debias\": \"5-Language-Generation/bias-debias.csv\",\n",
    "#     \"test\": \"5-Language-Generation/test.csv\",\n",
    "# }\n",
    "# lang_gen_alpaca_train = load_dataset(\"shainar/BEAD\", data_files=splits[\"alpaca_debiasing_data\"])[\"train\"]\n",
    "# lang_gen_alpaca_train_df = lang_gen_alpaca_train.to_pandas()"
   ]
  },
  {
   "cell_type": "markdown",
   "metadata": {},
   "source": [
    "### Baseline\n",
    "+ Only use labels when the model is X% confident. Noticed that going off the label alone gives very inconsistent results."
   ]
  },
  {
   "cell_type": "code",
   "execution_count": null,
   "metadata": {},
   "outputs": [],
   "source": [
    "CONFIDENCE_THRESH = 0.9"
   ]
  },
  {
   "cell_type": "code",
   "execution_count": null,
   "metadata": {},
   "outputs": [],
   "source": [
    "# How many of the records are in a \"confident\" classification (e.g., drop Slightly biased)?\n",
    "polarized_records = full_train_df[full_train_df[\"label\"].isin([\"Neutral\", \"Highly biased\"])]\n",
    "num_polarized_records = polarized_records.shape[0]\n",
    "print(f\"{num_polarized_records:,}\")"
   ]
  },
  {
   "cell_type": "code",
   "execution_count": null,
   "metadata": {},
   "outputs": [],
   "source": [
    "full_train_df[full_train_df[\"label\"] == \"Highly Biased\"][[\"text\", \"label\", \"biased_words\"]].sample(5)"
   ]
  },
  {
   "cell_type": "code",
   "execution_count": null,
   "metadata": {},
   "outputs": [],
   "source": [
    "# Randomly sample N biased and N unbiased records to see how DBias compares\n",
    "# NOTE: Only using \"Highly Biased\" and ignoring \"Slightly Biased\" for now\n",
    "sample_size = 1000\n",
    "sample_biased = full_train_df[full_train_df[\"label\"] == \"Highly Biased\"].sample(sample_size)\n",
    "sample_biased_text = np.array(sample_biased[\"text\"])\n",
    "print(sample_biased_text.shape)\n",
    "\n",
    "sample_unbiased = full_train_df[full_train_df[\"label\"] == \"Neutral\"].sample(sample_size)\n",
    "sample_unbiased_text = np.array(sample_unbiased[\"text\"])\n",
    "print(sample_unbiased_text.shape)"
   ]
  },
  {
   "cell_type": "code",
   "execution_count": null,
   "metadata": {},
   "outputs": [],
   "source": [
    "# Model supports max of 512 tokens\n",
    "MODEL_MAX = 512\n",
    "sample_biased_tokens = tokenizer(\n",
    "    list(sample_biased_text),\n",
    "    max_length=MODEL_MAX,\n",
    "    truncation=True,\n",
    "    padding=\"max_length\",\n",
    "    return_tensors=\"tf\"\n",
    ")\n",
    "sample_biased_text_limited = [tokenizer.decode(ids, skip_special_tokens=True) for ids in sample_biased_tokens[\"input_ids\"]]\n",
    "print(len(sample_biased_text_limited))\n",
    "\n",
    "sample_unbiased_tokens = tokenizer(\n",
    "    list(sample_unbiased_text),\n",
    "    max_length=MODEL_MAX,\n",
    "    truncation=True,\n",
    "    padding=\"max_length\",\n",
    "    return_tensors=\"tf\"\n",
    ")\n",
    "sample_unbiased_text_limited = [tokenizer.decode(ids, skip_special_tokens=True) for ids in sample_unbiased_tokens[\"input_ids\"]]\n",
    "print(len(sample_unbiased_text_limited))"
   ]
  },
  {
   "cell_type": "code",
   "execution_count": null,
   "metadata": {},
   "outputs": [],
   "source": [
    "average = (20.6 + 14.4) / 2 / 100\n",
    "print(average)\n",
    "\n",
    "sample_size = 1000\n",
    "print(f\"A sample of {sample_size:,} would take {round(sample_size*average/60, 1):,} minutes to complete\")\n",
    "\n",
    "sample_size = 10000\n",
    "print(f\"A sample of {sample_size:,} would take {round(sample_size*average/60, 1):,} minutes to complete\")\n",
    "\n",
    "sample_size = 100000\n",
    "print(f\"A sample of {sample_size:,} would take {round(sample_size*average/60, 1):,} minutes to complete\")\n",
    "\n",
    "sample_size = 1000000\n",
    "print(f\"A sample of {sample_size:,} would take {round(sample_size*average/60, 1):,} minutes to complete\")\n",
    "\n",
    "sample_size = num_polarized_records\n",
    "print(f\"A sample of {sample_size:,} would take {round(sample_size*average/60, 1):,} minutes to complete\")\n",
    "\n",
    "print(\"It would take 91 hours to baseline categorize the entire dataset of Highly Biased and Neutral records (ignoring Slightly Biased)\")"
   ]
  },
  {
   "cell_type": "markdown",
   "metadata": {},
   "source": [
    "### Parallelization"
   ]
  },
  {
   "cell_type": "code",
   "execution_count": null,
   "metadata": {},
   "outputs": [],
   "source": [
    "# General rule of thumb -- use # concurrent threads ≈ 2x to 3x the number of cores (Dave's laptop has 20 cores)\n",
    "max_threads = os.cpu_count()\n",
    "print(\"Number of CPU cores:\", max_threads)"
   ]
  },
  {
   "cell_type": "code",
   "execution_count": null,
   "metadata": {},
   "outputs": [],
   "source": [
    "# Semaphore controls the number of concurrent threads\n",
    "MAX_CONCURRENT = 30\n",
    "semaphore = asyncio.Semaphore(MAX_CONCURRENT)"
   ]
  },
  {
   "cell_type": "code",
   "execution_count": null,
   "metadata": {},
   "outputs": [],
   "source": [
    "# Define the async function that uses the semaphore\n",
    "async def process_classification(text):\n",
    "    async with semaphore:\n",
    "        # print(f\"Task started for: {text}\")\n",
    "\n",
    "        loop = asyncio.get_running_loop()\n",
    "        \n",
    "        # Run the synchronous classifier() method in a separate thread to avoid blocking\n",
    "        result = await loop.run_in_executor(None, classifier, text)\n",
    "\n",
    "        # Extract label and score from the result\n",
    "        label, score = result[0][\"label\"], result[0][\"score\"]\n",
    "        if score is None or score < CONFIDENCE_THRESH:\n",
    "            label = \"Uncertain\"\n",
    "\n",
    "        # print(f\"Task completed for: {text} - Label: {label}, Score: {score}\")\n",
    "        return label"
   ]
  },
  {
   "cell_type": "code",
   "execution_count": null,
   "metadata": {},
   "outputs": [],
   "source": [
    "# Asynchronous function to run classifier across list of texts\n",
    "async def classify_with_dbias(texts):\n",
    "    start_time = dt.datetime.now()\n",
    "    print(f\"Beginning main at {start_time.strftime('%H:%M:%S')}\")\n",
    "    tasks = [asyncio.create_task(process_classification(text)) for text in texts]\n",
    "    print(f\"Prepared {len(tasks)} tasks...\")\n",
    "\n",
    "    # Run tasks concurrently\n",
    "    results = await asyncio.gather(*tasks)\n",
    "\n",
    "    end_time  = dt.datetime.now()\n",
    "    duration = end_time - start_time\n",
    "    print(f\"Completed main at {end_time.strftime('%H:%M:%S')}. Total of {duration} seconds to complete...\")\n",
    "    return results"
   ]
  },
  {
   "cell_type": "code",
   "execution_count": null,
   "metadata": {},
   "outputs": [],
   "source": [
    "# Run the main function in an event loop ***BIASED***\n",
    "# Took 3:44 to run 1,000\n",
    "sample_biased_results = await classify_with_dbias(sample_biased_text_limited)"
   ]
  },
  {
   "cell_type": "code",
   "execution_count": null,
   "metadata": {},
   "outputs": [],
   "source": [
    "# Run the main function in an event loop ***UNBIASED***\n",
    "# Took 3:09 to run 1,000\n",
    "sample_unbiased_results = await classify_with_dbias(sample_unbiased_text_limited)"
   ]
  },
  {
   "cell_type": "code",
   "execution_count": null,
   "metadata": {},
   "outputs": [],
   "source": [
    "print(\"Biased sample:\")\n",
    "unique_elements, counts = np.unique(sample_biased_results, return_counts=True)\n",
    "sample_biased_value_counts = dict(zip(unique_elements, counts))\n",
    "print(sample_biased_value_counts)\n",
    "\n",
    "print(\"Unbiased sample:\")\n",
    "unique_elements, counts = np.unique(sample_unbiased_results, return_counts=True)\n",
    "sample_unbiased_value_counts = dict(zip(unique_elements, counts))\n",
    "print(sample_unbiased_value_counts)"
   ]
  },
  {
   "cell_type": "code",
   "execution_count": null,
   "metadata": {},
   "outputs": [],
   "source": [
    "# SAMPLES #1 (100)\n",
    "\"\"\"\n",
    "Biased sample:\n",
    "{'Biased': 54, 'Uncertain': 46}\n",
    "Unbiased sample:\n",
    "{'Biased': 23, 'Non-biased': 4, 'Uncertain': 73}\n",
    "\"\"\"\n",
    "right = 54 + 4\n",
    "wrong = 0 + 23\n",
    "drop = 46 + 73\n",
    "denom = right + wrong\n",
    "print(f\"Accuracy rate of SAMPLES #1 (100): {round(right/denom*100, 1)}%\")\n",
    "print(f\"Retain rate for SAMPLES #1 (100): {round(denom/(denom + drop)*100, 1)}%\")\n",
    "print(\"\")\n",
    "\n",
    "# SAMPLES #2 (1,000)\n",
    "\"\"\"\n",
    "Biased sample:\n",
    "{'Biased': 456, 'Non-biased': 3, 'Uncertain': 541}\n",
    "Unbiased sample:\n",
    "{'Biased': 292, 'Non-biased': 28, 'Uncertain': 680}\n",
    "\"\"\"\n",
    "right = 456 + 28\n",
    "wrong = 3 + 292\n",
    "drop = 541 + 680\n",
    "denom = right + wrong\n",
    "print(f\"Accuracy rate of SAMPLES #2 (1,000): {round(right/denom*100, 1)}%\")\n",
    "print(f\"Retain rate for SAMPLES #2 (1,000): {round(denom/(denom + drop)*100, 1)}%\")\n",
    "print(\"\")"
   ]
  },
  {
   "cell_type": "markdown",
   "metadata": {},
   "source": [
    "Dave forecasts it would take 4.5 days to process all 1.8 million\n",
    "+ 2,000 \tSample size\n",
    "+ 3.75\tFirst 1000\n",
    "+ 3.10\tSecond 1000\n",
    "+ 6.85\tTotal minutes\n",
    "+ 411\tTotal seconds\n",
    "+ 0.21\tSeconds per record\n",
    "\n",
    "Resulting in...\n",
    "+ 1,886,253 \tTotal dataset\n",
    "+ 387,624.99 \tImplied processing seconds\n",
    "+ 6,460.42 \tImplied processing minutes\n",
    "+ 107.67 \tImplied processing hours"
   ]
  },
  {
   "cell_type": "markdown",
   "metadata": {},
   "source": [
    "### Modeling"
   ]
  },
  {
   "cell_type": "code",
   "execution_count": null,
   "metadata": {},
   "outputs": [],
   "source": []
  }
 ],
 "metadata": {
  "colab": {
   "provenance": []
  },
  "kernelspec": {
   "display_name": "venv",
   "language": "python",
   "name": "python3"
  },
  "language_info": {
   "codemirror_mode": {
    "name": "ipython",
    "version": 3
   },
   "file_extension": ".py",
   "mimetype": "text/x-python",
   "name": "python",
   "nbconvert_exporter": "python",
   "pygments_lexer": "ipython3",
   "version": "3.10.12"
  },
  "widgets": {
   "application/vnd.jupyter.widget-state+json": {
    "028a4120b1614c8dbde8ee3751a9ea32": {
     "model_module": "@jupyter-widgets/controls",
     "model_module_version": "1.5.0",
     "model_name": "HTMLModel",
     "state": {
      "_dom_classes": [],
      "_model_module": "@jupyter-widgets/controls",
      "_model_module_version": "1.5.0",
      "_model_name": "HTMLModel",
      "_view_count": null,
      "_view_module": "@jupyter-widgets/controls",
      "_view_module_version": "1.5.0",
      "_view_name": "HTMLView",
      "description": "",
      "description_tooltip": null,
      "layout": "IPY_MODEL_417bfbd9762f4a76b8db0c0907200888",
      "placeholder": "​",
      "style": "IPY_MODEL_76d1beb13246435ea84af68ec3c839b4",
      "value": "Generating train split: "
     }
    },
    "0885a84ea5314f9383cb1f29a8734cf5": {
     "model_module": "@jupyter-widgets/controls",
     "model_module_version": "1.5.0",
     "model_name": "ProgressStyleModel",
     "state": {
      "_model_module": "@jupyter-widgets/controls",
      "_model_module_version": "1.5.0",
      "_model_name": "ProgressStyleModel",
      "_view_count": null,
      "_view_module": "@jupyter-widgets/base",
      "_view_module_version": "1.2.0",
      "_view_name": "StyleView",
      "bar_color": null,
      "description_width": ""
     }
    },
    "15b8b6efe7ab4830b997c54cbd9b40b1": {
     "model_module": "@jupyter-widgets/controls",
     "model_module_version": "1.5.0",
     "model_name": "FloatProgressModel",
     "state": {
      "_dom_classes": [],
      "_model_module": "@jupyter-widgets/controls",
      "_model_module_version": "1.5.0",
      "_model_name": "FloatProgressModel",
      "_view_count": null,
      "_view_module": "@jupyter-widgets/controls",
      "_view_module_version": "1.5.0",
      "_view_name": "ProgressView",
      "bar_style": "success",
      "description": "",
      "description_tooltip": null,
      "layout": "IPY_MODEL_b3e077d276454e2a9e59199544dd1395",
      "max": 152188,
      "min": 0,
      "orientation": "horizontal",
      "style": "IPY_MODEL_cda00425b4ab4b868c558a1c30de07ae",
      "value": 152188
     }
    },
    "38fd20e19354447a88db63857857fad5": {
     "model_module": "@jupyter-widgets/base",
     "model_module_version": "1.2.0",
     "model_name": "LayoutModel",
     "state": {
      "_model_module": "@jupyter-widgets/base",
      "_model_module_version": "1.2.0",
      "_model_name": "LayoutModel",
      "_view_count": null,
      "_view_module": "@jupyter-widgets/base",
      "_view_module_version": "1.2.0",
      "_view_name": "LayoutView",
      "align_content": null,
      "align_items": null,
      "align_self": null,
      "border": null,
      "bottom": null,
      "display": null,
      "flex": null,
      "flex_flow": null,
      "grid_area": null,
      "grid_auto_columns": null,
      "grid_auto_flow": null,
      "grid_auto_rows": null,
      "grid_column": null,
      "grid_gap": null,
      "grid_row": null,
      "grid_template_areas": null,
      "grid_template_columns": null,
      "grid_template_rows": null,
      "height": null,
      "justify_content": null,
      "justify_items": null,
      "left": null,
      "margin": null,
      "max_height": null,
      "max_width": null,
      "min_height": null,
      "min_width": null,
      "object_fit": null,
      "object_position": null,
      "order": null,
      "overflow": null,
      "overflow_x": null,
      "overflow_y": null,
      "padding": null,
      "right": null,
      "top": null,
      "visibility": null,
      "width": null
     }
    },
    "3e7c1868eb19445e8b27f37872473bbc": {
     "model_module": "@jupyter-widgets/controls",
     "model_module_version": "1.5.0",
     "model_name": "HTMLModel",
     "state": {
      "_dom_classes": [],
      "_model_module": "@jupyter-widgets/controls",
      "_model_module_version": "1.5.0",
      "_model_name": "HTMLModel",
      "_view_count": null,
      "_view_module": "@jupyter-widgets/controls",
      "_view_module_version": "1.5.0",
      "_view_name": "HTMLView",
      "description": "",
      "description_tooltip": null,
      "layout": "IPY_MODEL_b5b44c86719143208ddfacafd164ab13",
      "placeholder": "​",
      "style": "IPY_MODEL_c02cecc1706d45b59c33c367bad85391",
      "value": "stereotype_prompts.csv: 100%"
     }
    },
    "417bfbd9762f4a76b8db0c0907200888": {
     "model_module": "@jupyter-widgets/base",
     "model_module_version": "1.2.0",
     "model_name": "LayoutModel",
     "state": {
      "_model_module": "@jupyter-widgets/base",
      "_model_module_version": "1.2.0",
      "_model_name": "LayoutModel",
      "_view_count": null,
      "_view_module": "@jupyter-widgets/base",
      "_view_module_version": "1.2.0",
      "_view_name": "LayoutView",
      "align_content": null,
      "align_items": null,
      "align_self": null,
      "border": null,
      "bottom": null,
      "display": null,
      "flex": null,
      "flex_flow": null,
      "grid_area": null,
      "grid_auto_columns": null,
      "grid_auto_flow": null,
      "grid_auto_rows": null,
      "grid_column": null,
      "grid_gap": null,
      "grid_row": null,
      "grid_template_areas": null,
      "grid_template_columns": null,
      "grid_template_rows": null,
      "height": null,
      "justify_content": null,
      "justify_items": null,
      "left": null,
      "margin": null,
      "max_height": null,
      "max_width": null,
      "min_height": null,
      "min_width": null,
      "object_fit": null,
      "object_position": null,
      "order": null,
      "overflow": null,
      "overflow_x": null,
      "overflow_y": null,
      "padding": null,
      "right": null,
      "top": null,
      "visibility": null,
      "width": null
     }
    },
    "4448ecd0c370410e850b260f60bd1199": {
     "model_module": "@jupyter-widgets/controls",
     "model_module_version": "1.5.0",
     "model_name": "DescriptionStyleModel",
     "state": {
      "_model_module": "@jupyter-widgets/controls",
      "_model_module_version": "1.5.0",
      "_model_name": "DescriptionStyleModel",
      "_view_count": null,
      "_view_module": "@jupyter-widgets/base",
      "_view_module_version": "1.2.0",
      "_view_name": "StyleView",
      "description_width": ""
     }
    },
    "4661153f394849eabb9f62157c9077df": {
     "model_module": "@jupyter-widgets/controls",
     "model_module_version": "1.5.0",
     "model_name": "DescriptionStyleModel",
     "state": {
      "_model_module": "@jupyter-widgets/controls",
      "_model_module_version": "1.5.0",
      "_model_name": "DescriptionStyleModel",
      "_view_count": null,
      "_view_module": "@jupyter-widgets/base",
      "_view_module_version": "1.2.0",
      "_view_name": "StyleView",
      "description_width": ""
     }
    },
    "47463c44fec1494ca3869997c6d0a096": {
     "model_module": "@jupyter-widgets/controls",
     "model_module_version": "1.5.0",
     "model_name": "HBoxModel",
     "state": {
      "_dom_classes": [],
      "_model_module": "@jupyter-widgets/controls",
      "_model_module_version": "1.5.0",
      "_model_name": "HBoxModel",
      "_view_count": null,
      "_view_module": "@jupyter-widgets/controls",
      "_view_module_version": "1.5.0",
      "_view_name": "HBoxView",
      "box_style": "",
      "children": [
       "IPY_MODEL_740a01bde6734d9dbfd412a7a630d61a",
       "IPY_MODEL_f994008306ef48cc8a31d171c784bb37",
       "IPY_MODEL_81d39ad564324a74bffab6aaef535a2b"
      ],
      "layout": "IPY_MODEL_78e962f34c9a46d9994356965be02259"
     }
    },
    "47b53043b91a430b9f96b21e3a3667c9": {
     "model_module": "@jupyter-widgets/controls",
     "model_module_version": "1.5.0",
     "model_name": "HBoxModel",
     "state": {
      "_dom_classes": [],
      "_model_module": "@jupyter-widgets/controls",
      "_model_module_version": "1.5.0",
      "_model_name": "HBoxModel",
      "_view_count": null,
      "_view_module": "@jupyter-widgets/controls",
      "_view_module_version": "1.5.0",
      "_view_name": "HBoxView",
      "box_style": "",
      "children": [
       "IPY_MODEL_3e7c1868eb19445e8b27f37872473bbc",
       "IPY_MODEL_15b8b6efe7ab4830b997c54cbd9b40b1",
       "IPY_MODEL_9c85e77dd2c84f2d838ce0f1fffec9c2"
      ],
      "layout": "IPY_MODEL_92fbf8d8e516448d9212fa2d29b1f63b"
     }
    },
    "4adc873b18944461982d9c975224ccac": {
     "model_module": "@jupyter-widgets/base",
     "model_module_version": "1.2.0",
     "model_name": "LayoutModel",
     "state": {
      "_model_module": "@jupyter-widgets/base",
      "_model_module_version": "1.2.0",
      "_model_name": "LayoutModel",
      "_view_count": null,
      "_view_module": "@jupyter-widgets/base",
      "_view_module_version": "1.2.0",
      "_view_name": "LayoutView",
      "align_content": null,
      "align_items": null,
      "align_self": null,
      "border": null,
      "bottom": null,
      "display": null,
      "flex": null,
      "flex_flow": null,
      "grid_area": null,
      "grid_auto_columns": null,
      "grid_auto_flow": null,
      "grid_auto_rows": null,
      "grid_column": null,
      "grid_gap": null,
      "grid_row": null,
      "grid_template_areas": null,
      "grid_template_columns": null,
      "grid_template_rows": null,
      "height": null,
      "justify_content": null,
      "justify_items": null,
      "left": null,
      "margin": null,
      "max_height": null,
      "max_width": null,
      "min_height": null,
      "min_width": null,
      "object_fit": null,
      "object_position": null,
      "order": null,
      "overflow": null,
      "overflow_x": null,
      "overflow_y": null,
      "padding": null,
      "right": null,
      "top": null,
      "visibility": null,
      "width": "20px"
     }
    },
    "508b4d33a31749dbb40b570c1212910c": {
     "model_module": "@jupyter-widgets/base",
     "model_module_version": "1.2.0",
     "model_name": "LayoutModel",
     "state": {
      "_model_module": "@jupyter-widgets/base",
      "_model_module_version": "1.2.0",
      "_model_name": "LayoutModel",
      "_view_count": null,
      "_view_module": "@jupyter-widgets/base",
      "_view_module_version": "1.2.0",
      "_view_name": "LayoutView",
      "align_content": null,
      "align_items": null,
      "align_self": null,
      "border": null,
      "bottom": null,
      "display": null,
      "flex": null,
      "flex_flow": null,
      "grid_area": null,
      "grid_auto_columns": null,
      "grid_auto_flow": null,
      "grid_auto_rows": null,
      "grid_column": null,
      "grid_gap": null,
      "grid_row": null,
      "grid_template_areas": null,
      "grid_template_columns": null,
      "grid_template_rows": null,
      "height": null,
      "justify_content": null,
      "justify_items": null,
      "left": null,
      "margin": null,
      "max_height": null,
      "max_width": null,
      "min_height": null,
      "min_width": null,
      "object_fit": null,
      "object_position": null,
      "order": null,
      "overflow": null,
      "overflow_x": null,
      "overflow_y": null,
      "padding": null,
      "right": null,
      "top": null,
      "visibility": null,
      "width": null
     }
    },
    "5128e50fc8d14050a90dd919ac3ebef6": {
     "model_module": "@jupyter-widgets/controls",
     "model_module_version": "1.5.0",
     "model_name": "HTMLModel",
     "state": {
      "_dom_classes": [],
      "_model_module": "@jupyter-widgets/controls",
      "_model_module_version": "1.5.0",
      "_model_name": "HTMLModel",
      "_view_count": null,
      "_view_module": "@jupyter-widgets/controls",
      "_view_module_version": "1.5.0",
      "_view_name": "HTMLView",
      "description": "",
      "description_tooltip": null,
      "layout": "IPY_MODEL_38fd20e19354447a88db63857857fad5",
      "placeholder": "​",
      "style": "IPY_MODEL_b05c0e2e424e41fea81c48d123e52046",
      "value": "Demographic-variation.csv: 100%"
     }
    },
    "519398536f2d421e9d89cc7af35928d9": {
     "model_module": "@jupyter-widgets/base",
     "model_module_version": "1.2.0",
     "model_name": "LayoutModel",
     "state": {
      "_model_module": "@jupyter-widgets/base",
      "_model_module_version": "1.2.0",
      "_model_name": "LayoutModel",
      "_view_count": null,
      "_view_module": "@jupyter-widgets/base",
      "_view_module_version": "1.2.0",
      "_view_name": "LayoutView",
      "align_content": null,
      "align_items": null,
      "align_self": null,
      "border": null,
      "bottom": null,
      "display": null,
      "flex": null,
      "flex_flow": null,
      "grid_area": null,
      "grid_auto_columns": null,
      "grid_auto_flow": null,
      "grid_auto_rows": null,
      "grid_column": null,
      "grid_gap": null,
      "grid_row": null,
      "grid_template_areas": null,
      "grid_template_columns": null,
      "grid_template_rows": null,
      "height": null,
      "justify_content": null,
      "justify_items": null,
      "left": null,
      "margin": null,
      "max_height": null,
      "max_width": null,
      "min_height": null,
      "min_width": null,
      "object_fit": null,
      "object_position": null,
      "order": null,
      "overflow": null,
      "overflow_x": null,
      "overflow_y": null,
      "padding": null,
      "right": null,
      "top": null,
      "visibility": null,
      "width": null
     }
    },
    "5853540cc13c43c888fc6a251627c0ab": {
     "model_module": "@jupyter-widgets/controls",
     "model_module_version": "1.5.0",
     "model_name": "HBoxModel",
     "state": {
      "_dom_classes": [],
      "_model_module": "@jupyter-widgets/controls",
      "_model_module_version": "1.5.0",
      "_model_name": "HBoxModel",
      "_view_count": null,
      "_view_module": "@jupyter-widgets/controls",
      "_view_module_version": "1.5.0",
      "_view_name": "HBoxView",
      "box_style": "",
      "children": [
       "IPY_MODEL_028a4120b1614c8dbde8ee3751a9ea32",
       "IPY_MODEL_bc82f1a2f2774cd388f61b941ef46898",
       "IPY_MODEL_d2b310799ed4465c8019d32184fdbde7"
      ],
      "layout": "IPY_MODEL_e25f9dac5ef44c2e859fee801fb6f092"
     }
    },
    "5e57e550de5246a8bcbad58f0e723d0b": {
     "model_module": "@jupyter-widgets/controls",
     "model_module_version": "1.5.0",
     "model_name": "DescriptionStyleModel",
     "state": {
      "_model_module": "@jupyter-widgets/controls",
      "_model_module_version": "1.5.0",
      "_model_name": "DescriptionStyleModel",
      "_view_count": null,
      "_view_module": "@jupyter-widgets/base",
      "_view_module_version": "1.2.0",
      "_view_name": "StyleView",
      "description_width": ""
     }
    },
    "5f69f78daf324613bbbd092c077d8434": {
     "model_module": "@jupyter-widgets/base",
     "model_module_version": "1.2.0",
     "model_name": "LayoutModel",
     "state": {
      "_model_module": "@jupyter-widgets/base",
      "_model_module_version": "1.2.0",
      "_model_name": "LayoutModel",
      "_view_count": null,
      "_view_module": "@jupyter-widgets/base",
      "_view_module_version": "1.2.0",
      "_view_name": "LayoutView",
      "align_content": null,
      "align_items": null,
      "align_self": null,
      "border": null,
      "bottom": null,
      "display": null,
      "flex": null,
      "flex_flow": null,
      "grid_area": null,
      "grid_auto_columns": null,
      "grid_auto_flow": null,
      "grid_auto_rows": null,
      "grid_column": null,
      "grid_gap": null,
      "grid_row": null,
      "grid_template_areas": null,
      "grid_template_columns": null,
      "grid_template_rows": null,
      "height": null,
      "justify_content": null,
      "justify_items": null,
      "left": null,
      "margin": null,
      "max_height": null,
      "max_width": null,
      "min_height": null,
      "min_width": null,
      "object_fit": null,
      "object_position": null,
      "order": null,
      "overflow": null,
      "overflow_x": null,
      "overflow_y": null,
      "padding": null,
      "right": null,
      "top": null,
      "visibility": null,
      "width": "20px"
     }
    },
    "60653aa016b24cb6b5a13a2eac79012d": {
     "model_module": "@jupyter-widgets/controls",
     "model_module_version": "1.5.0",
     "model_name": "DescriptionStyleModel",
     "state": {
      "_model_module": "@jupyter-widgets/controls",
      "_model_module_version": "1.5.0",
      "_model_name": "DescriptionStyleModel",
      "_view_count": null,
      "_view_module": "@jupyter-widgets/base",
      "_view_module_version": "1.2.0",
      "_view_name": "StyleView",
      "description_width": ""
     }
    },
    "63dcf66ce2034c9e891fe7b7004a66e8": {
     "model_module": "@jupyter-widgets/controls",
     "model_module_version": "1.5.0",
     "model_name": "HTMLModel",
     "state": {
      "_dom_classes": [],
      "_model_module": "@jupyter-widgets/controls",
      "_model_module_version": "1.5.0",
      "_model_name": "HTMLModel",
      "_view_count": null,
      "_view_module": "@jupyter-widgets/controls",
      "_view_module_version": "1.5.0",
      "_view_name": "HTMLView",
      "description": "",
      "description_tooltip": null,
      "layout": "IPY_MODEL_9c66bb4e5ed44ae5829faa2798a6375c",
      "placeholder": "​",
      "style": "IPY_MODEL_db8d5f9266174e9b863a2536f204f719",
      "value": "Generating train split: "
     }
    },
    "6d85b8f05dde4856ae82e4025d47a5fd": {
     "model_module": "@jupyter-widgets/controls",
     "model_module_version": "1.5.0",
     "model_name": "ProgressStyleModel",
     "state": {
      "_model_module": "@jupyter-widgets/controls",
      "_model_module_version": "1.5.0",
      "_model_name": "ProgressStyleModel",
      "_view_count": null,
      "_view_module": "@jupyter-widgets/base",
      "_view_module_version": "1.2.0",
      "_view_name": "StyleView",
      "bar_color": null,
      "description_width": ""
     }
    },
    "70ad1f91db9b4c65883d36499a7798c0": {
     "model_module": "@jupyter-widgets/controls",
     "model_module_version": "1.5.0",
     "model_name": "FloatProgressModel",
     "state": {
      "_dom_classes": [],
      "_model_module": "@jupyter-widgets/controls",
      "_model_module_version": "1.5.0",
      "_model_name": "FloatProgressModel",
      "_view_count": null,
      "_view_module": "@jupyter-widgets/controls",
      "_view_module_version": "1.5.0",
      "_view_name": "ProgressView",
      "bar_style": "success",
      "description": "",
      "description_tooltip": null,
      "layout": "IPY_MODEL_a5ab99b41e4f4e69a72e729c12e25b5b",
      "max": 544864,
      "min": 0,
      "orientation": "horizontal",
      "style": "IPY_MODEL_0885a84ea5314f9383cb1f29a8734cf5",
      "value": 544864
     }
    },
    "731b59b05f4e497690f8c0b5c07289d7": {
     "model_module": "@jupyter-widgets/base",
     "model_module_version": "1.2.0",
     "model_name": "LayoutModel",
     "state": {
      "_model_module": "@jupyter-widgets/base",
      "_model_module_version": "1.2.0",
      "_model_name": "LayoutModel",
      "_view_count": null,
      "_view_module": "@jupyter-widgets/base",
      "_view_module_version": "1.2.0",
      "_view_name": "LayoutView",
      "align_content": null,
      "align_items": null,
      "align_self": null,
      "border": null,
      "bottom": null,
      "display": null,
      "flex": null,
      "flex_flow": null,
      "grid_area": null,
      "grid_auto_columns": null,
      "grid_auto_flow": null,
      "grid_auto_rows": null,
      "grid_column": null,
      "grid_gap": null,
      "grid_row": null,
      "grid_template_areas": null,
      "grid_template_columns": null,
      "grid_template_rows": null,
      "height": null,
      "justify_content": null,
      "justify_items": null,
      "left": null,
      "margin": null,
      "max_height": null,
      "max_width": null,
      "min_height": null,
      "min_width": null,
      "object_fit": null,
      "object_position": null,
      "order": null,
      "overflow": null,
      "overflow_x": null,
      "overflow_y": null,
      "padding": null,
      "right": null,
      "top": null,
      "visibility": null,
      "width": null
     }
    },
    "73821d50933b48beaa2de26bd0d92d79": {
     "model_module": "@jupyter-widgets/controls",
     "model_module_version": "1.5.0",
     "model_name": "HTMLModel",
     "state": {
      "_dom_classes": [],
      "_model_module": "@jupyter-widgets/controls",
      "_model_module_version": "1.5.0",
      "_model_name": "HTMLModel",
      "_view_count": null,
      "_view_module": "@jupyter-widgets/controls",
      "_view_module_version": "1.5.0",
      "_view_name": "HTMLView",
      "description": "",
      "description_tooltip": null,
      "layout": "IPY_MODEL_f5955550ce9f47d187baca8dd78a4fcf",
      "placeholder": "​",
      "style": "IPY_MODEL_4661153f394849eabb9f62157c9077df",
      "value": " 520/0 [00:00&lt;00:00, 5423.77 examples/s]"
     }
    },
    "740a01bde6734d9dbfd412a7a630d61a": {
     "model_module": "@jupyter-widgets/controls",
     "model_module_version": "1.5.0",
     "model_name": "HTMLModel",
     "state": {
      "_dom_classes": [],
      "_model_module": "@jupyter-widgets/controls",
      "_model_module_version": "1.5.0",
      "_model_name": "HTMLModel",
      "_view_count": null,
      "_view_module": "@jupyter-widgets/controls",
      "_view_module_version": "1.5.0",
      "_view_name": "HTMLView",
      "description": "",
      "description_tooltip": null,
      "layout": "IPY_MODEL_731b59b05f4e497690f8c0b5c07289d7",
      "placeholder": "​",
      "style": "IPY_MODEL_82448d376b5746aead824048f1992efb",
      "value": "Generating train split: "
     }
    },
    "745136d2f06641a69543dab117b0e72d": {
     "model_module": "@jupyter-widgets/base",
     "model_module_version": "1.2.0",
     "model_name": "LayoutModel",
     "state": {
      "_model_module": "@jupyter-widgets/base",
      "_model_module_version": "1.2.0",
      "_model_name": "LayoutModel",
      "_view_count": null,
      "_view_module": "@jupyter-widgets/base",
      "_view_module_version": "1.2.0",
      "_view_name": "LayoutView",
      "align_content": null,
      "align_items": null,
      "align_self": null,
      "border": null,
      "bottom": null,
      "display": null,
      "flex": null,
      "flex_flow": null,
      "grid_area": null,
      "grid_auto_columns": null,
      "grid_auto_flow": null,
      "grid_auto_rows": null,
      "grid_column": null,
      "grid_gap": null,
      "grid_row": null,
      "grid_template_areas": null,
      "grid_template_columns": null,
      "grid_template_rows": null,
      "height": null,
      "justify_content": null,
      "justify_items": null,
      "left": null,
      "margin": null,
      "max_height": null,
      "max_width": null,
      "min_height": null,
      "min_width": null,
      "object_fit": null,
      "object_position": null,
      "order": null,
      "overflow": null,
      "overflow_x": null,
      "overflow_y": null,
      "padding": null,
      "right": null,
      "top": null,
      "visibility": null,
      "width": null
     }
    },
    "76d1beb13246435ea84af68ec3c839b4": {
     "model_module": "@jupyter-widgets/controls",
     "model_module_version": "1.5.0",
     "model_name": "DescriptionStyleModel",
     "state": {
      "_model_module": "@jupyter-widgets/controls",
      "_model_module_version": "1.5.0",
      "_model_name": "DescriptionStyleModel",
      "_view_count": null,
      "_view_module": "@jupyter-widgets/base",
      "_view_module_version": "1.2.0",
      "_view_name": "StyleView",
      "description_width": ""
     }
    },
    "78e962f34c9a46d9994356965be02259": {
     "model_module": "@jupyter-widgets/base",
     "model_module_version": "1.2.0",
     "model_name": "LayoutModel",
     "state": {
      "_model_module": "@jupyter-widgets/base",
      "_model_module_version": "1.2.0",
      "_model_name": "LayoutModel",
      "_view_count": null,
      "_view_module": "@jupyter-widgets/base",
      "_view_module_version": "1.2.0",
      "_view_name": "LayoutView",
      "align_content": null,
      "align_items": null,
      "align_self": null,
      "border": null,
      "bottom": null,
      "display": null,
      "flex": null,
      "flex_flow": null,
      "grid_area": null,
      "grid_auto_columns": null,
      "grid_auto_flow": null,
      "grid_auto_rows": null,
      "grid_column": null,
      "grid_gap": null,
      "grid_row": null,
      "grid_template_areas": null,
      "grid_template_columns": null,
      "grid_template_rows": null,
      "height": null,
      "justify_content": null,
      "justify_items": null,
      "left": null,
      "margin": null,
      "max_height": null,
      "max_width": null,
      "min_height": null,
      "min_width": null,
      "object_fit": null,
      "object_position": null,
      "order": null,
      "overflow": null,
      "overflow_x": null,
      "overflow_y": null,
      "padding": null,
      "right": null,
      "top": null,
      "visibility": null,
      "width": null
     }
    },
    "791e28d8d779420aaf336a1c6fd20a2f": {
     "model_module": "@jupyter-widgets/base",
     "model_module_version": "1.2.0",
     "model_name": "LayoutModel",
     "state": {
      "_model_module": "@jupyter-widgets/base",
      "_model_module_version": "1.2.0",
      "_model_name": "LayoutModel",
      "_view_count": null,
      "_view_module": "@jupyter-widgets/base",
      "_view_module_version": "1.2.0",
      "_view_name": "LayoutView",
      "align_content": null,
      "align_items": null,
      "align_self": null,
      "border": null,
      "bottom": null,
      "display": null,
      "flex": null,
      "flex_flow": null,
      "grid_area": null,
      "grid_auto_columns": null,
      "grid_auto_flow": null,
      "grid_auto_rows": null,
      "grid_column": null,
      "grid_gap": null,
      "grid_row": null,
      "grid_template_areas": null,
      "grid_template_columns": null,
      "grid_template_rows": null,
      "height": null,
      "justify_content": null,
      "justify_items": null,
      "left": null,
      "margin": null,
      "max_height": null,
      "max_width": null,
      "min_height": null,
      "min_width": null,
      "object_fit": null,
      "object_position": null,
      "order": null,
      "overflow": null,
      "overflow_x": null,
      "overflow_y": null,
      "padding": null,
      "right": null,
      "top": null,
      "visibility": null,
      "width": null
     }
    },
    "7b89db84a7f44dfeb066ed40c4e286fc": {
     "model_module": "@jupyter-widgets/controls",
     "model_module_version": "1.5.0",
     "model_name": "DescriptionStyleModel",
     "state": {
      "_model_module": "@jupyter-widgets/controls",
      "_model_module_version": "1.5.0",
      "_model_name": "DescriptionStyleModel",
      "_view_count": null,
      "_view_module": "@jupyter-widgets/base",
      "_view_module_version": "1.2.0",
      "_view_name": "StyleView",
      "description_width": ""
     }
    },
    "7ecc5f9b64ec487fae608ce94ea286f5": {
     "model_module": "@jupyter-widgets/base",
     "model_module_version": "1.2.0",
     "model_name": "LayoutModel",
     "state": {
      "_model_module": "@jupyter-widgets/base",
      "_model_module_version": "1.2.0",
      "_model_name": "LayoutModel",
      "_view_count": null,
      "_view_module": "@jupyter-widgets/base",
      "_view_module_version": "1.2.0",
      "_view_name": "LayoutView",
      "align_content": null,
      "align_items": null,
      "align_self": null,
      "border": null,
      "bottom": null,
      "display": null,
      "flex": null,
      "flex_flow": null,
      "grid_area": null,
      "grid_auto_columns": null,
      "grid_auto_flow": null,
      "grid_auto_rows": null,
      "grid_column": null,
      "grid_gap": null,
      "grid_row": null,
      "grid_template_areas": null,
      "grid_template_columns": null,
      "grid_template_rows": null,
      "height": null,
      "justify_content": null,
      "justify_items": null,
      "left": null,
      "margin": null,
      "max_height": null,
      "max_width": null,
      "min_height": null,
      "min_width": null,
      "object_fit": null,
      "object_position": null,
      "order": null,
      "overflow": null,
      "overflow_x": null,
      "overflow_y": null,
      "padding": null,
      "right": null,
      "top": null,
      "visibility": null,
      "width": null
     }
    },
    "81d39ad564324a74bffab6aaef535a2b": {
     "model_module": "@jupyter-widgets/controls",
     "model_module_version": "1.5.0",
     "model_name": "HTMLModel",
     "state": {
      "_dom_classes": [],
      "_model_module": "@jupyter-widgets/controls",
      "_model_module_version": "1.5.0",
      "_model_name": "HTMLModel",
      "_view_count": null,
      "_view_module": "@jupyter-widgets/controls",
      "_view_module_version": "1.5.0",
      "_view_name": "HTMLView",
      "description": "",
      "description_tooltip": null,
      "layout": "IPY_MODEL_c90fc9788fb14175887b2d6d1f2e15e4",
      "placeholder": "​",
      "style": "IPY_MODEL_ffaf8fd5dea941db967623d5a7f6f142",
      "value": " 352/0 [00:00&lt;00:00, 7629.24 examples/s]"
     }
    },
    "82448d376b5746aead824048f1992efb": {
     "model_module": "@jupyter-widgets/controls",
     "model_module_version": "1.5.0",
     "model_name": "DescriptionStyleModel",
     "state": {
      "_model_module": "@jupyter-widgets/controls",
      "_model_module_version": "1.5.0",
      "_model_name": "DescriptionStyleModel",
      "_view_count": null,
      "_view_module": "@jupyter-widgets/base",
      "_view_module_version": "1.2.0",
      "_view_name": "StyleView",
      "description_width": ""
     }
    },
    "831b5ba97c7b4cd48083e1a6dd950e2b": {
     "model_module": "@jupyter-widgets/base",
     "model_module_version": "1.2.0",
     "model_name": "LayoutModel",
     "state": {
      "_model_module": "@jupyter-widgets/base",
      "_model_module_version": "1.2.0",
      "_model_name": "LayoutModel",
      "_view_count": null,
      "_view_module": "@jupyter-widgets/base",
      "_view_module_version": "1.2.0",
      "_view_name": "LayoutView",
      "align_content": null,
      "align_items": null,
      "align_self": null,
      "border": null,
      "bottom": null,
      "display": null,
      "flex": null,
      "flex_flow": null,
      "grid_area": null,
      "grid_auto_columns": null,
      "grid_auto_flow": null,
      "grid_auto_rows": null,
      "grid_column": null,
      "grid_gap": null,
      "grid_row": null,
      "grid_template_areas": null,
      "grid_template_columns": null,
      "grid_template_rows": null,
      "height": null,
      "justify_content": null,
      "justify_items": null,
      "left": null,
      "margin": null,
      "max_height": null,
      "max_width": null,
      "min_height": null,
      "min_width": null,
      "object_fit": null,
      "object_position": null,
      "order": null,
      "overflow": null,
      "overflow_x": null,
      "overflow_y": null,
      "padding": null,
      "right": null,
      "top": null,
      "visibility": null,
      "width": "20px"
     }
    },
    "83ee5449799c4e08aa8fc327680c94d8": {
     "model_module": "@jupyter-widgets/base",
     "model_module_version": "1.2.0",
     "model_name": "LayoutModel",
     "state": {
      "_model_module": "@jupyter-widgets/base",
      "_model_module_version": "1.2.0",
      "_model_name": "LayoutModel",
      "_view_count": null,
      "_view_module": "@jupyter-widgets/base",
      "_view_module_version": "1.2.0",
      "_view_name": "LayoutView",
      "align_content": null,
      "align_items": null,
      "align_self": null,
      "border": null,
      "bottom": null,
      "display": null,
      "flex": null,
      "flex_flow": null,
      "grid_area": null,
      "grid_auto_columns": null,
      "grid_auto_flow": null,
      "grid_auto_rows": null,
      "grid_column": null,
      "grid_gap": null,
      "grid_row": null,
      "grid_template_areas": null,
      "grid_template_columns": null,
      "grid_template_rows": null,
      "height": null,
      "justify_content": null,
      "justify_items": null,
      "left": null,
      "margin": null,
      "max_height": null,
      "max_width": null,
      "min_height": null,
      "min_width": null,
      "object_fit": null,
      "object_position": null,
      "order": null,
      "overflow": null,
      "overflow_x": null,
      "overflow_y": null,
      "padding": null,
      "right": null,
      "top": null,
      "visibility": null,
      "width": null
     }
    },
    "88725040b9a94778b732b61953ea3d92": {
     "model_module": "@jupyter-widgets/controls",
     "model_module_version": "1.5.0",
     "model_name": "ProgressStyleModel",
     "state": {
      "_model_module": "@jupyter-widgets/controls",
      "_model_module_version": "1.5.0",
      "_model_name": "ProgressStyleModel",
      "_view_count": null,
      "_view_module": "@jupyter-widgets/base",
      "_view_module_version": "1.2.0",
      "_view_name": "StyleView",
      "bar_color": null,
      "description_width": ""
     }
    },
    "8c8af232c1b341678d45e4279465846d": {
     "model_module": "@jupyter-widgets/controls",
     "model_module_version": "1.5.0",
     "model_name": "DescriptionStyleModel",
     "state": {
      "_model_module": "@jupyter-widgets/controls",
      "_model_module_version": "1.5.0",
      "_model_name": "DescriptionStyleModel",
      "_view_count": null,
      "_view_module": "@jupyter-widgets/base",
      "_view_module_version": "1.2.0",
      "_view_name": "StyleView",
      "description_width": ""
     }
    },
    "92fbf8d8e516448d9212fa2d29b1f63b": {
     "model_module": "@jupyter-widgets/base",
     "model_module_version": "1.2.0",
     "model_name": "LayoutModel",
     "state": {
      "_model_module": "@jupyter-widgets/base",
      "_model_module_version": "1.2.0",
      "_model_name": "LayoutModel",
      "_view_count": null,
      "_view_module": "@jupyter-widgets/base",
      "_view_module_version": "1.2.0",
      "_view_name": "LayoutView",
      "align_content": null,
      "align_items": null,
      "align_self": null,
      "border": null,
      "bottom": null,
      "display": null,
      "flex": null,
      "flex_flow": null,
      "grid_area": null,
      "grid_auto_columns": null,
      "grid_auto_flow": null,
      "grid_auto_rows": null,
      "grid_column": null,
      "grid_gap": null,
      "grid_row": null,
      "grid_template_areas": null,
      "grid_template_columns": null,
      "grid_template_rows": null,
      "height": null,
      "justify_content": null,
      "justify_items": null,
      "left": null,
      "margin": null,
      "max_height": null,
      "max_width": null,
      "min_height": null,
      "min_width": null,
      "object_fit": null,
      "object_position": null,
      "order": null,
      "overflow": null,
      "overflow_x": null,
      "overflow_y": null,
      "padding": null,
      "right": null,
      "top": null,
      "visibility": null,
      "width": null
     }
    },
    "9c66bb4e5ed44ae5829faa2798a6375c": {
     "model_module": "@jupyter-widgets/base",
     "model_module_version": "1.2.0",
     "model_name": "LayoutModel",
     "state": {
      "_model_module": "@jupyter-widgets/base",
      "_model_module_version": "1.2.0",
      "_model_name": "LayoutModel",
      "_view_count": null,
      "_view_module": "@jupyter-widgets/base",
      "_view_module_version": "1.2.0",
      "_view_name": "LayoutView",
      "align_content": null,
      "align_items": null,
      "align_self": null,
      "border": null,
      "bottom": null,
      "display": null,
      "flex": null,
      "flex_flow": null,
      "grid_area": null,
      "grid_auto_columns": null,
      "grid_auto_flow": null,
      "grid_auto_rows": null,
      "grid_column": null,
      "grid_gap": null,
      "grid_row": null,
      "grid_template_areas": null,
      "grid_template_columns": null,
      "grid_template_rows": null,
      "height": null,
      "justify_content": null,
      "justify_items": null,
      "left": null,
      "margin": null,
      "max_height": null,
      "max_width": null,
      "min_height": null,
      "min_width": null,
      "object_fit": null,
      "object_position": null,
      "order": null,
      "overflow": null,
      "overflow_x": null,
      "overflow_y": null,
      "padding": null,
      "right": null,
      "top": null,
      "visibility": null,
      "width": null
     }
    },
    "9c85e77dd2c84f2d838ce0f1fffec9c2": {
     "model_module": "@jupyter-widgets/controls",
     "model_module_version": "1.5.0",
     "model_name": "HTMLModel",
     "state": {
      "_dom_classes": [],
      "_model_module": "@jupyter-widgets/controls",
      "_model_module_version": "1.5.0",
      "_model_name": "HTMLModel",
      "_view_count": null,
      "_view_module": "@jupyter-widgets/controls",
      "_view_module_version": "1.5.0",
      "_view_name": "HTMLView",
      "description": "",
      "description_tooltip": null,
      "layout": "IPY_MODEL_c2dbfd98d0c048b0b02593abfe1fb04d",
      "placeholder": "​",
      "style": "IPY_MODEL_60653aa016b24cb6b5a13a2eac79012d",
      "value": " 152k/152k [00:00&lt;00:00, 3.22MB/s]"
     }
    },
    "a1bd565c17164ab0ac549e0665913392": {
     "model_module": "@jupyter-widgets/controls",
     "model_module_version": "1.5.0",
     "model_name": "FloatProgressModel",
     "state": {
      "_dom_classes": [],
      "_model_module": "@jupyter-widgets/controls",
      "_model_module_version": "1.5.0",
      "_model_name": "FloatProgressModel",
      "_view_count": null,
      "_view_module": "@jupyter-widgets/controls",
      "_view_module_version": "1.5.0",
      "_view_name": "ProgressView",
      "bar_style": "success",
      "description": "",
      "description_tooltip": null,
      "layout": "IPY_MODEL_83ee5449799c4e08aa8fc327680c94d8",
      "max": 33431410,
      "min": 0,
      "orientation": "horizontal",
      "style": "IPY_MODEL_6d85b8f05dde4856ae82e4025d47a5fd",
      "value": 33431410
     }
    },
    "a5ab99b41e4f4e69a72e729c12e25b5b": {
     "model_module": "@jupyter-widgets/base",
     "model_module_version": "1.2.0",
     "model_name": "LayoutModel",
     "state": {
      "_model_module": "@jupyter-widgets/base",
      "_model_module_version": "1.2.0",
      "_model_name": "LayoutModel",
      "_view_count": null,
      "_view_module": "@jupyter-widgets/base",
      "_view_module_version": "1.2.0",
      "_view_name": "LayoutView",
      "align_content": null,
      "align_items": null,
      "align_self": null,
      "border": null,
      "bottom": null,
      "display": null,
      "flex": null,
      "flex_flow": null,
      "grid_area": null,
      "grid_auto_columns": null,
      "grid_auto_flow": null,
      "grid_auto_rows": null,
      "grid_column": null,
      "grid_gap": null,
      "grid_row": null,
      "grid_template_areas": null,
      "grid_template_columns": null,
      "grid_template_rows": null,
      "height": null,
      "justify_content": null,
      "justify_items": null,
      "left": null,
      "margin": null,
      "max_height": null,
      "max_width": null,
      "min_height": null,
      "min_width": null,
      "object_fit": null,
      "object_position": null,
      "order": null,
      "overflow": null,
      "overflow_x": null,
      "overflow_y": null,
      "padding": null,
      "right": null,
      "top": null,
      "visibility": null,
      "width": null
     }
    },
    "b05c0e2e424e41fea81c48d123e52046": {
     "model_module": "@jupyter-widgets/controls",
     "model_module_version": "1.5.0",
     "model_name": "DescriptionStyleModel",
     "state": {
      "_model_module": "@jupyter-widgets/controls",
      "_model_module_version": "1.5.0",
      "_model_name": "DescriptionStyleModel",
      "_view_count": null,
      "_view_module": "@jupyter-widgets/base",
      "_view_module_version": "1.2.0",
      "_view_name": "StyleView",
      "description_width": ""
     }
    },
    "b3e077d276454e2a9e59199544dd1395": {
     "model_module": "@jupyter-widgets/base",
     "model_module_version": "1.2.0",
     "model_name": "LayoutModel",
     "state": {
      "_model_module": "@jupyter-widgets/base",
      "_model_module_version": "1.2.0",
      "_model_name": "LayoutModel",
      "_view_count": null,
      "_view_module": "@jupyter-widgets/base",
      "_view_module_version": "1.2.0",
      "_view_name": "LayoutView",
      "align_content": null,
      "align_items": null,
      "align_self": null,
      "border": null,
      "bottom": null,
      "display": null,
      "flex": null,
      "flex_flow": null,
      "grid_area": null,
      "grid_auto_columns": null,
      "grid_auto_flow": null,
      "grid_auto_rows": null,
      "grid_column": null,
      "grid_gap": null,
      "grid_row": null,
      "grid_template_areas": null,
      "grid_template_columns": null,
      "grid_template_rows": null,
      "height": null,
      "justify_content": null,
      "justify_items": null,
      "left": null,
      "margin": null,
      "max_height": null,
      "max_width": null,
      "min_height": null,
      "min_width": null,
      "object_fit": null,
      "object_position": null,
      "order": null,
      "overflow": null,
      "overflow_x": null,
      "overflow_y": null,
      "padding": null,
      "right": null,
      "top": null,
      "visibility": null,
      "width": null
     }
    },
    "b5b44c86719143208ddfacafd164ab13": {
     "model_module": "@jupyter-widgets/base",
     "model_module_version": "1.2.0",
     "model_name": "LayoutModel",
     "state": {
      "_model_module": "@jupyter-widgets/base",
      "_model_module_version": "1.2.0",
      "_model_name": "LayoutModel",
      "_view_count": null,
      "_view_module": "@jupyter-widgets/base",
      "_view_module_version": "1.2.0",
      "_view_name": "LayoutView",
      "align_content": null,
      "align_items": null,
      "align_self": null,
      "border": null,
      "bottom": null,
      "display": null,
      "flex": null,
      "flex_flow": null,
      "grid_area": null,
      "grid_auto_columns": null,
      "grid_auto_flow": null,
      "grid_auto_rows": null,
      "grid_column": null,
      "grid_gap": null,
      "grid_row": null,
      "grid_template_areas": null,
      "grid_template_columns": null,
      "grid_template_rows": null,
      "height": null,
      "justify_content": null,
      "justify_items": null,
      "left": null,
      "margin": null,
      "max_height": null,
      "max_width": null,
      "min_height": null,
      "min_width": null,
      "object_fit": null,
      "object_position": null,
      "order": null,
      "overflow": null,
      "overflow_x": null,
      "overflow_y": null,
      "padding": null,
      "right": null,
      "top": null,
      "visibility": null,
      "width": null
     }
    },
    "bc82f1a2f2774cd388f61b941ef46898": {
     "model_module": "@jupyter-widgets/controls",
     "model_module_version": "1.5.0",
     "model_name": "FloatProgressModel",
     "state": {
      "_dom_classes": [],
      "_model_module": "@jupyter-widgets/controls",
      "_model_module_version": "1.5.0",
      "_model_name": "FloatProgressModel",
      "_view_count": null,
      "_view_module": "@jupyter-widgets/controls",
      "_view_module_version": "1.5.0",
      "_view_name": "ProgressView",
      "bar_style": "success",
      "description": "",
      "description_tooltip": null,
      "layout": "IPY_MODEL_831b5ba97c7b4cd48083e1a6dd950e2b",
      "max": 1,
      "min": 0,
      "orientation": "horizontal",
      "style": "IPY_MODEL_beca1c2d8e554c3bbd067a8ab7340127",
      "value": 1
     }
    },
    "beca1c2d8e554c3bbd067a8ab7340127": {
     "model_module": "@jupyter-widgets/controls",
     "model_module_version": "1.5.0",
     "model_name": "ProgressStyleModel",
     "state": {
      "_model_module": "@jupyter-widgets/controls",
      "_model_module_version": "1.5.0",
      "_model_name": "ProgressStyleModel",
      "_view_count": null,
      "_view_module": "@jupyter-widgets/base",
      "_view_module_version": "1.2.0",
      "_view_name": "StyleView",
      "bar_color": null,
      "description_width": ""
     }
    },
    "c02cecc1706d45b59c33c367bad85391": {
     "model_module": "@jupyter-widgets/controls",
     "model_module_version": "1.5.0",
     "model_name": "DescriptionStyleModel",
     "state": {
      "_model_module": "@jupyter-widgets/controls",
      "_model_module_version": "1.5.0",
      "_model_name": "DescriptionStyleModel",
      "_view_count": null,
      "_view_module": "@jupyter-widgets/base",
      "_view_module_version": "1.2.0",
      "_view_name": "StyleView",
      "description_width": ""
     }
    },
    "c277fc704bf842a2835b572e833b9b2b": {
     "model_module": "@jupyter-widgets/controls",
     "model_module_version": "1.5.0",
     "model_name": "FloatProgressModel",
     "state": {
      "_dom_classes": [],
      "_model_module": "@jupyter-widgets/controls",
      "_model_module_version": "1.5.0",
      "_model_name": "FloatProgressModel",
      "_view_count": null,
      "_view_module": "@jupyter-widgets/controls",
      "_view_module_version": "1.5.0",
      "_view_name": "ProgressView",
      "bar_style": "success",
      "description": "",
      "description_tooltip": null,
      "layout": "IPY_MODEL_4adc873b18944461982d9c975224ccac",
      "max": 1,
      "min": 0,
      "orientation": "horizontal",
      "style": "IPY_MODEL_dee8c2b4721248ca9e0448054d748fa2",
      "value": 1
     }
    },
    "c2dbfd98d0c048b0b02593abfe1fb04d": {
     "model_module": "@jupyter-widgets/base",
     "model_module_version": "1.2.0",
     "model_name": "LayoutModel",
     "state": {
      "_model_module": "@jupyter-widgets/base",
      "_model_module_version": "1.2.0",
      "_model_name": "LayoutModel",
      "_view_count": null,
      "_view_module": "@jupyter-widgets/base",
      "_view_module_version": "1.2.0",
      "_view_name": "LayoutView",
      "align_content": null,
      "align_items": null,
      "align_self": null,
      "border": null,
      "bottom": null,
      "display": null,
      "flex": null,
      "flex_flow": null,
      "grid_area": null,
      "grid_auto_columns": null,
      "grid_auto_flow": null,
      "grid_auto_rows": null,
      "grid_column": null,
      "grid_gap": null,
      "grid_row": null,
      "grid_template_areas": null,
      "grid_template_columns": null,
      "grid_template_rows": null,
      "height": null,
      "justify_content": null,
      "justify_items": null,
      "left": null,
      "margin": null,
      "max_height": null,
      "max_width": null,
      "min_height": null,
      "min_width": null,
      "object_fit": null,
      "object_position": null,
      "order": null,
      "overflow": null,
      "overflow_x": null,
      "overflow_y": null,
      "padding": null,
      "right": null,
      "top": null,
      "visibility": null,
      "width": null
     }
    },
    "c2e3cf3727ea40828391131b09ec0db6": {
     "model_module": "@jupyter-widgets/base",
     "model_module_version": "1.2.0",
     "model_name": "LayoutModel",
     "state": {
      "_model_module": "@jupyter-widgets/base",
      "_model_module_version": "1.2.0",
      "_model_name": "LayoutModel",
      "_view_count": null,
      "_view_module": "@jupyter-widgets/base",
      "_view_module_version": "1.2.0",
      "_view_name": "LayoutView",
      "align_content": null,
      "align_items": null,
      "align_self": null,
      "border": null,
      "bottom": null,
      "display": null,
      "flex": null,
      "flex_flow": null,
      "grid_area": null,
      "grid_auto_columns": null,
      "grid_auto_flow": null,
      "grid_auto_rows": null,
      "grid_column": null,
      "grid_gap": null,
      "grid_row": null,
      "grid_template_areas": null,
      "grid_template_columns": null,
      "grid_template_rows": null,
      "height": null,
      "justify_content": null,
      "justify_items": null,
      "left": null,
      "margin": null,
      "max_height": null,
      "max_width": null,
      "min_height": null,
      "min_width": null,
      "object_fit": null,
      "object_position": null,
      "order": null,
      "overflow": null,
      "overflow_x": null,
      "overflow_y": null,
      "padding": null,
      "right": null,
      "top": null,
      "visibility": null,
      "width": null
     }
    },
    "c82c23d05d9f4079bff5055d789895b3": {
     "model_module": "@jupyter-widgets/controls",
     "model_module_version": "1.5.0",
     "model_name": "HTMLModel",
     "state": {
      "_dom_classes": [],
      "_model_module": "@jupyter-widgets/controls",
      "_model_module_version": "1.5.0",
      "_model_name": "HTMLModel",
      "_view_count": null,
      "_view_module": "@jupyter-widgets/controls",
      "_view_module_version": "1.5.0",
      "_view_name": "HTMLView",
      "description": "",
      "description_tooltip": null,
      "layout": "IPY_MODEL_745136d2f06641a69543dab117b0e72d",
      "placeholder": "​",
      "style": "IPY_MODEL_4448ecd0c370410e850b260f60bd1199",
      "value": " 545k/545k [00:00&lt;00:00, 4.41MB/s]"
     }
    },
    "c90fc9788fb14175887b2d6d1f2e15e4": {
     "model_module": "@jupyter-widgets/base",
     "model_module_version": "1.2.0",
     "model_name": "LayoutModel",
     "state": {
      "_model_module": "@jupyter-widgets/base",
      "_model_module_version": "1.2.0",
      "_model_name": "LayoutModel",
      "_view_count": null,
      "_view_module": "@jupyter-widgets/base",
      "_view_module_version": "1.2.0",
      "_view_name": "LayoutView",
      "align_content": null,
      "align_items": null,
      "align_self": null,
      "border": null,
      "bottom": null,
      "display": null,
      "flex": null,
      "flex_flow": null,
      "grid_area": null,
      "grid_auto_columns": null,
      "grid_auto_flow": null,
      "grid_auto_rows": null,
      "grid_column": null,
      "grid_gap": null,
      "grid_row": null,
      "grid_template_areas": null,
      "grid_template_columns": null,
      "grid_template_rows": null,
      "height": null,
      "justify_content": null,
      "justify_items": null,
      "left": null,
      "margin": null,
      "max_height": null,
      "max_width": null,
      "min_height": null,
      "min_width": null,
      "object_fit": null,
      "object_position": null,
      "order": null,
      "overflow": null,
      "overflow_x": null,
      "overflow_y": null,
      "padding": null,
      "right": null,
      "top": null,
      "visibility": null,
      "width": null
     }
    },
    "cda00425b4ab4b868c558a1c30de07ae": {
     "model_module": "@jupyter-widgets/controls",
     "model_module_version": "1.5.0",
     "model_name": "ProgressStyleModel",
     "state": {
      "_model_module": "@jupyter-widgets/controls",
      "_model_module_version": "1.5.0",
      "_model_name": "ProgressStyleModel",
      "_view_count": null,
      "_view_module": "@jupyter-widgets/base",
      "_view_module_version": "1.2.0",
      "_view_name": "StyleView",
      "bar_color": null,
      "description_width": ""
     }
    },
    "cddad446dbf04d7282249eeb7f82363a": {
     "model_module": "@jupyter-widgets/controls",
     "model_module_version": "1.5.0",
     "model_name": "HBoxModel",
     "state": {
      "_dom_classes": [],
      "_model_module": "@jupyter-widgets/controls",
      "_model_module_version": "1.5.0",
      "_model_name": "HBoxModel",
      "_view_count": null,
      "_view_module": "@jupyter-widgets/controls",
      "_view_module_version": "1.5.0",
      "_view_name": "HBoxView",
      "box_style": "",
      "children": [
       "IPY_MODEL_63dcf66ce2034c9e891fe7b7004a66e8",
       "IPY_MODEL_c277fc704bf842a2835b572e833b9b2b",
       "IPY_MODEL_73821d50933b48beaa2de26bd0d92d79"
      ],
      "layout": "IPY_MODEL_519398536f2d421e9d89cc7af35928d9"
     }
    },
    "ce619e35397143a69a6f5637b6fd0cc4": {
     "model_module": "@jupyter-widgets/base",
     "model_module_version": "1.2.0",
     "model_name": "LayoutModel",
     "state": {
      "_model_module": "@jupyter-widgets/base",
      "_model_module_version": "1.2.0",
      "_model_name": "LayoutModel",
      "_view_count": null,
      "_view_module": "@jupyter-widgets/base",
      "_view_module_version": "1.2.0",
      "_view_name": "LayoutView",
      "align_content": null,
      "align_items": null,
      "align_self": null,
      "border": null,
      "bottom": null,
      "display": null,
      "flex": null,
      "flex_flow": null,
      "grid_area": null,
      "grid_auto_columns": null,
      "grid_auto_flow": null,
      "grid_auto_rows": null,
      "grid_column": null,
      "grid_gap": null,
      "grid_row": null,
      "grid_template_areas": null,
      "grid_template_columns": null,
      "grid_template_rows": null,
      "height": null,
      "justify_content": null,
      "justify_items": null,
      "left": null,
      "margin": null,
      "max_height": null,
      "max_width": null,
      "min_height": null,
      "min_width": null,
      "object_fit": null,
      "object_position": null,
      "order": null,
      "overflow": null,
      "overflow_x": null,
      "overflow_y": null,
      "padding": null,
      "right": null,
      "top": null,
      "visibility": null,
      "width": null
     }
    },
    "d24c2f26ab5c4fc6bf8bfa2a3d472c99": {
     "model_module": "@jupyter-widgets/controls",
     "model_module_version": "1.5.0",
     "model_name": "HBoxModel",
     "state": {
      "_dom_classes": [],
      "_model_module": "@jupyter-widgets/controls",
      "_model_module_version": "1.5.0",
      "_model_name": "HBoxModel",
      "_view_count": null,
      "_view_module": "@jupyter-widgets/controls",
      "_view_module_version": "1.5.0",
      "_view_name": "HBoxView",
      "box_style": "",
      "children": [
       "IPY_MODEL_5128e50fc8d14050a90dd919ac3ebef6",
       "IPY_MODEL_70ad1f91db9b4c65883d36499a7798c0",
       "IPY_MODEL_c82c23d05d9f4079bff5055d789895b3"
      ],
      "layout": "IPY_MODEL_c2e3cf3727ea40828391131b09ec0db6"
     }
    },
    "d26d7be81ce24c4ca2cee8d600b62f9d": {
     "model_module": "@jupyter-widgets/controls",
     "model_module_version": "1.5.0",
     "model_name": "HBoxModel",
     "state": {
      "_dom_classes": [],
      "_model_module": "@jupyter-widgets/controls",
      "_model_module_version": "1.5.0",
      "_model_name": "HBoxModel",
      "_view_count": null,
      "_view_module": "@jupyter-widgets/controls",
      "_view_module_version": "1.5.0",
      "_view_name": "HBoxView",
      "box_style": "",
      "children": [
       "IPY_MODEL_e3192d0c4a694bdbae4e78b9316b5c02",
       "IPY_MODEL_a1bd565c17164ab0ac549e0665913392",
       "IPY_MODEL_e5e360be6a8d4a01806a8e1a69734c55"
      ],
      "layout": "IPY_MODEL_508b4d33a31749dbb40b570c1212910c"
     }
    },
    "d2b310799ed4465c8019d32184fdbde7": {
     "model_module": "@jupyter-widgets/controls",
     "model_module_version": "1.5.0",
     "model_name": "HTMLModel",
     "state": {
      "_dom_classes": [],
      "_model_module": "@jupyter-widgets/controls",
      "_model_module_version": "1.5.0",
      "_model_name": "HTMLModel",
      "_view_count": null,
      "_view_module": "@jupyter-widgets/controls",
      "_view_module_version": "1.5.0",
      "_view_name": "HTMLView",
      "description": "",
      "description_tooltip": null,
      "layout": "IPY_MODEL_791e28d8d779420aaf336a1c6fd20a2f",
      "placeholder": "​",
      "style": "IPY_MODEL_5e57e550de5246a8bcbad58f0e723d0b",
      "value": " 85598/0 [00:01&lt;00:00, 56701.96 examples/s]"
     }
    },
    "db8d5f9266174e9b863a2536f204f719": {
     "model_module": "@jupyter-widgets/controls",
     "model_module_version": "1.5.0",
     "model_name": "DescriptionStyleModel",
     "state": {
      "_model_module": "@jupyter-widgets/controls",
      "_model_module_version": "1.5.0",
      "_model_name": "DescriptionStyleModel",
      "_view_count": null,
      "_view_module": "@jupyter-widgets/base",
      "_view_module_version": "1.2.0",
      "_view_name": "StyleView",
      "description_width": ""
     }
    },
    "dee8c2b4721248ca9e0448054d748fa2": {
     "model_module": "@jupyter-widgets/controls",
     "model_module_version": "1.5.0",
     "model_name": "ProgressStyleModel",
     "state": {
      "_model_module": "@jupyter-widgets/controls",
      "_model_module_version": "1.5.0",
      "_model_name": "ProgressStyleModel",
      "_view_count": null,
      "_view_module": "@jupyter-widgets/base",
      "_view_module_version": "1.2.0",
      "_view_name": "StyleView",
      "bar_color": null,
      "description_width": ""
     }
    },
    "e25f9dac5ef44c2e859fee801fb6f092": {
     "model_module": "@jupyter-widgets/base",
     "model_module_version": "1.2.0",
     "model_name": "LayoutModel",
     "state": {
      "_model_module": "@jupyter-widgets/base",
      "_model_module_version": "1.2.0",
      "_model_name": "LayoutModel",
      "_view_count": null,
      "_view_module": "@jupyter-widgets/base",
      "_view_module_version": "1.2.0",
      "_view_name": "LayoutView",
      "align_content": null,
      "align_items": null,
      "align_self": null,
      "border": null,
      "bottom": null,
      "display": null,
      "flex": null,
      "flex_flow": null,
      "grid_area": null,
      "grid_auto_columns": null,
      "grid_auto_flow": null,
      "grid_auto_rows": null,
      "grid_column": null,
      "grid_gap": null,
      "grid_row": null,
      "grid_template_areas": null,
      "grid_template_columns": null,
      "grid_template_rows": null,
      "height": null,
      "justify_content": null,
      "justify_items": null,
      "left": null,
      "margin": null,
      "max_height": null,
      "max_width": null,
      "min_height": null,
      "min_width": null,
      "object_fit": null,
      "object_position": null,
      "order": null,
      "overflow": null,
      "overflow_x": null,
      "overflow_y": null,
      "padding": null,
      "right": null,
      "top": null,
      "visibility": null,
      "width": null
     }
    },
    "e3192d0c4a694bdbae4e78b9316b5c02": {
     "model_module": "@jupyter-widgets/controls",
     "model_module_version": "1.5.0",
     "model_name": "HTMLModel",
     "state": {
      "_dom_classes": [],
      "_model_module": "@jupyter-widgets/controls",
      "_model_module_version": "1.5.0",
      "_model_name": "HTMLModel",
      "_view_count": null,
      "_view_module": "@jupyter-widgets/controls",
      "_view_module_version": "1.5.0",
      "_view_name": "HTMLView",
      "description": "",
      "description_tooltip": null,
      "layout": "IPY_MODEL_7ecc5f9b64ec487fae608ce94ea286f5",
      "placeholder": "​",
      "style": "IPY_MODEL_7b89db84a7f44dfeb066ed40c4e286fc",
      "value": "demographic-template.csv: 100%"
     }
    },
    "e5e360be6a8d4a01806a8e1a69734c55": {
     "model_module": "@jupyter-widgets/controls",
     "model_module_version": "1.5.0",
     "model_name": "HTMLModel",
     "state": {
      "_dom_classes": [],
      "_model_module": "@jupyter-widgets/controls",
      "_model_module_version": "1.5.0",
      "_model_name": "HTMLModel",
      "_view_count": null,
      "_view_module": "@jupyter-widgets/controls",
      "_view_module_version": "1.5.0",
      "_view_name": "HTMLView",
      "description": "",
      "description_tooltip": null,
      "layout": "IPY_MODEL_ce619e35397143a69a6f5637b6fd0cc4",
      "placeholder": "​",
      "style": "IPY_MODEL_8c8af232c1b341678d45e4279465846d",
      "value": " 33.4M/33.4M [00:00&lt;00:00, 52.5MB/s]"
     }
    },
    "f5955550ce9f47d187baca8dd78a4fcf": {
     "model_module": "@jupyter-widgets/base",
     "model_module_version": "1.2.0",
     "model_name": "LayoutModel",
     "state": {
      "_model_module": "@jupyter-widgets/base",
      "_model_module_version": "1.2.0",
      "_model_name": "LayoutModel",
      "_view_count": null,
      "_view_module": "@jupyter-widgets/base",
      "_view_module_version": "1.2.0",
      "_view_name": "LayoutView",
      "align_content": null,
      "align_items": null,
      "align_self": null,
      "border": null,
      "bottom": null,
      "display": null,
      "flex": null,
      "flex_flow": null,
      "grid_area": null,
      "grid_auto_columns": null,
      "grid_auto_flow": null,
      "grid_auto_rows": null,
      "grid_column": null,
      "grid_gap": null,
      "grid_row": null,
      "grid_template_areas": null,
      "grid_template_columns": null,
      "grid_template_rows": null,
      "height": null,
      "justify_content": null,
      "justify_items": null,
      "left": null,
      "margin": null,
      "max_height": null,
      "max_width": null,
      "min_height": null,
      "min_width": null,
      "object_fit": null,
      "object_position": null,
      "order": null,
      "overflow": null,
      "overflow_x": null,
      "overflow_y": null,
      "padding": null,
      "right": null,
      "top": null,
      "visibility": null,
      "width": null
     }
    },
    "f994008306ef48cc8a31d171c784bb37": {
     "model_module": "@jupyter-widgets/controls",
     "model_module_version": "1.5.0",
     "model_name": "FloatProgressModel",
     "state": {
      "_dom_classes": [],
      "_model_module": "@jupyter-widgets/controls",
      "_model_module_version": "1.5.0",
      "_model_name": "FloatProgressModel",
      "_view_count": null,
      "_view_module": "@jupyter-widgets/controls",
      "_view_module_version": "1.5.0",
      "_view_name": "ProgressView",
      "bar_style": "success",
      "description": "",
      "description_tooltip": null,
      "layout": "IPY_MODEL_5f69f78daf324613bbbd092c077d8434",
      "max": 1,
      "min": 0,
      "orientation": "horizontal",
      "style": "IPY_MODEL_88725040b9a94778b732b61953ea3d92",
      "value": 1
     }
    },
    "ffaf8fd5dea941db967623d5a7f6f142": {
     "model_module": "@jupyter-widgets/controls",
     "model_module_version": "1.5.0",
     "model_name": "DescriptionStyleModel",
     "state": {
      "_model_module": "@jupyter-widgets/controls",
      "_model_module_version": "1.5.0",
      "_model_name": "DescriptionStyleModel",
      "_view_count": null,
      "_view_module": "@jupyter-widgets/base",
      "_view_module_version": "1.2.0",
      "_view_name": "StyleView",
      "description_width": ""
     }
    }
   }
  }
 },
 "nbformat": 4,
 "nbformat_minor": 0
}
